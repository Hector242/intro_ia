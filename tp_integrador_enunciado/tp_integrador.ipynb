{
  "cells": [
    {
      "cell_type": "markdown",
      "id": "07289bb0",
      "metadata": {},
      "source": [
        "# Trabajo práctico integrador\n",
        "\n",
        "**Nombre**:"
      ]
    },
    {
      "cell_type": "markdown",
      "id": "afa76473",
      "metadata": {},
      "source": [
        "## Primera Parte (Clase 1 y 2)"
      ]
    },
    {
      "cell_type": "code",
      "execution_count": 14,
      "id": "aaf94e0a",
      "metadata": {
        "id": "aaf94e0a"
      },
      "outputs": [],
      "source": [
        "import numpy as np\n",
        "import matplotlib.pyplot as plt"
      ]
    },
    {
      "cell_type": "markdown",
      "id": "0ffe9554",
      "metadata": {},
      "source": [
        "### Primer ejercicio\n",
        "\n",
        "Dada una matriz en formato *numpy array*, donde cada fila de la matriz representa un vector matemático, se requiere computar las normas $l_0$, $l_1$, $l_2$, $l_{\\infty}$, según la siguientes definiciones:\n",
        "\n",
        "\\begin{equation}\n",
        "    ||\\mathbf{x}||^{p} = \\bigg(\\sum_{j=1}^{n}{|x_i|^p}\\bigg)^{\\frac{1}{p}}\n",
        "\\end{equation}\n",
        "\n",
        "con los casos especiales para $p=0$ y $p=\\infty$ siendo:\n",
        "\n",
        "\\begin{equation}\n",
        "    \\begin{array}{rcl}\n",
        "        ||\\mathbf{x}||_0 & = & \\bigg(\\sum_{j=1 \\wedge x_j != 0}{|x_i|}\\bigg)\\\\\n",
        "        ||\\mathbf{x}||_{\\infty} & = & \\max_{i}{|x_i|}\\\\\n",
        "    \\end{array}\n",
        "\\end{equation}"
      ]
    },
    {
      "cell_type": "code",
      "execution_count": 15,
      "id": "0bdb0ee3",
      "metadata": {},
      "outputs": [
        {
          "name": "stdout",
          "output_type": "stream",
          "text": [
            "La matriz es: \n",
            " [[1 0 1]\n",
            " [1 0 1]\n",
            " [4 3 0]]\n",
            "Las norma l1 del vector 1:  2.0\n",
            "Las norma l1 del vector 2:  2.0\n",
            "Las norma l1 del vector 3:  7.0\n",
            "Las normas l2 de los vector 1:  1.4142135623730951\n",
            "Las normas l2 de los vector 2:  1.4142135623730951\n",
            "Las normas l2 de los vector 3:  5.0\n",
            "Las norma l0 de los vector 1:  2\n",
            "Las norma l0 de los vector 2:  2\n",
            "Las norma l0 de los vector 3:  2\n",
            "La norma inf del vector 1:  1\n",
            "La norma inf del vector 2:  1\n",
            "La norma inf del vector 3:  4\n"
          ]
        },
        {
          "data": {
            "text/plain": [
              "0"
            ]
          },
          "execution_count": 15,
          "metadata": {},
          "output_type": "execute_result"
        }
      ],
      "source": [
        "x = np.random.randint(5, size=(3,3))\n",
        "print(\"La matriz es: \\n\",x)\n",
        "\n",
        "\n",
        "def norms(p):\n",
        "    size = len(x)\n",
        "    for i in range(size):\n",
        "        if p != 0 and p != np.inf:\n",
        "            norm_p = np.sum(abs(x[i]) ** p) ** (1/p)\n",
        "            if p == 1:\n",
        "                print(f\"Las norma l1 del vector {i+1}: \",norm_p)\n",
        "            else:\n",
        "                print(f\"Las normas l2 de los vector {i+1}: \",norm_p)\n",
        "        elif p == 0:\n",
        "            norm_p = np.sum(abs(x[i]) != 0) #cantidad de elementos no nulos\n",
        "            print(f\"Las norma l0 de los vector {i+1}: \",norm_p)\n",
        "        else:\n",
        "            norm_p = np.max((abs(x[i])))\n",
        "            print(f\"La norma inf del vector {i+1}: \",norm_p)\n",
        "    return 0\n",
        "\n",
        "#norm l1\n",
        "p_l1 = 1\n",
        "norms(p_l1)\n",
        "\n",
        "#norm l2\n",
        "p_l2 = 2\n",
        "norms(p_l2)\n",
        "\n",
        "#norm l0\n",
        "p_l0 = 0\n",
        "norms(p_l0)\n",
        "\n",
        "#norm inf\n",
        "p_linf = np.inf\n",
        "norms(p_linf)"
      ]
    },
    {
      "cell_type": "markdown",
      "id": "dd66d862",
      "metadata": {},
      "source": [
        "### Segundo Ejercicio\n",
        "\n",
        "En clasificación contamos con dos arreglos, la “verdad” y la “predicción”. Cada elemento de los arreglos pueden tomar dos valores, “True” (representado por 1) y “False” (representado por 0). Entonces podemos definir 4 variables:\n",
        "\n",
        "* True Positive (TP): El valor verdadero es 1 y el valor predicho es 1\n",
        "* True Negative (TN): El valor verdadero es 0 y el valor predicho es 0\n",
        "* False Positive (FP): El valor verdadero es 0 y el valor predicho es 1\n",
        "* False Negative (FN): El valor verdadero es 1 y el valor predicho es 0\n",
        "\n",
        "A partir de esto definimos:\n",
        "\n",
        "* Precision = TP / (TP + FP)\n",
        "* Recall = TP / (TP + FN)\n",
        "* Accuracy = (TP + TN) / (TP + TN + FP + FN)\n",
        " \n",
        "Calcular las 3 métricas con Numpy y operaciones vectorizadas."
      ]
    },
    {
      "cell_type": "code",
      "execution_count": 16,
      "id": "794dcd58",
      "metadata": {},
      "outputs": [
        {
          "name": "stdout",
          "output_type": "stream",
          "text": [
            "[ True  True False  True False False False False False False]\n",
            "TP:  3\n",
            "[ True  True  True  True  True  True  True  True False  True]\n",
            "TN:  1\n",
            "[False False False False  True  True False False False  True]\n",
            "FN:  3\n",
            "[False False  True False False False  True  True False False]\n",
            "FP:  3\n",
            "Precision: 0.5, Recall: 0.5, Accuracy: 0.4\n"
          ]
        }
      ],
      "source": [
        "truth = np.array([1,1,0,1,1,1,0,0,0,1])\n",
        "prediction = np.array([1,1,1,1,0,0,1,1,0,0])\n",
        "\n",
        "#using logical AND to get the TP op: 1 and 1 = true\n",
        "compare01_and = np.logical_and(truth,prediction)\n",
        "print(compare01_and)\n",
        "#seeking true values and sum them to get tp\n",
        "tp_rate = len(compare01_and[np.nonzero(compare01_and == 1)])\n",
        "print(\"TP: \",tp_rate)\n",
        "\n",
        "#using logical OR since there should be just one false = 0 or 0 \n",
        "compare02 = np.logical_or(truth,prediction)\n",
        "print(compare02)\n",
        "#seeking true values and sum them to get tn\n",
        "tn_rate = len(compare02[np.nonzero(compare02 == 0)])\n",
        "print(\"TN: \",tn_rate)\n",
        "\n",
        "#using XOR against first AND vs truth array will give me FN\n",
        "compare03 = np.logical_xor(compare01_and,truth)\n",
        "print(compare03)\n",
        "#getting the rate of FN\n",
        "fn_rate = len(compare03[np.nonzero(compare03 == 1)])\n",
        "print(\"FN: \",fn_rate)\n",
        "\n",
        "compare04 = np.logical_xor(compare01_and,prediction)\n",
        "print(compare04)\n",
        "fp_rate = len(compare04[np.nonzero(compare04 == 1)])\n",
        "print(\"FP: \",fp_rate)\n",
        "\n",
        "precision = (tp_rate)/(tp_rate + fp_rate)\n",
        "recall = (tp_rate)/(tp_rate + fn_rate)\n",
        "accuracy = (tp_rate + tn_rate)/(tp_rate + tn_rate + fp_rate + fn_rate)\n",
        "print(f\"Precision: {precision}, Recall: {recall}, Accuracy: {accuracy}\")"
      ]
    },
    {
      "cell_type": "markdown",
      "id": "612a03e6",
      "metadata": {},
      "source": [
        "### Tercer y Cuarto Ejercicio\n",
        "\n",
        "Para este ejercicio vamos a considerar los siguientes datasets:\n",
        "\n",
        "* [HAR](https://archive.ics.uci.edu/ml/datasets/Human+Activity+Recognition+Using+Smartphones) (Ejercicio 3)\n",
        "* [MNIST](https://scikit-learn.org/stable/modules/generated/sklearn.datasets.load_digits.html) (Ejercicio 4)\n",
        "\n",
        "1. Aplicar PCA (validar que se cumplan las condiciones), ¿Cuántas componentes necesitamos para explicar el 80% de la varianza?\n",
        "2. Gráficar la variación acumulada para cada caso.\n",
        "3. Utilizando [KMeans](https://scikit-learn.org/stable/modules/generated/sklearn.cluster.KMeans.html). Agrupar el dataset transformado (ejercicio de PCA) y agrupar en clusters de $k=6$ (ej 3) y $k=10$ (ej 4). Luego en ambos casos probar con $k=2$.\n",
        "4. Graficar los resultados con los distintos k's usando las primeras dos componentes principales como ejes x,y.\n",
        "5. Explique. ¿Cuál fue la ganancia de usar PCA en conjunto con k-means?"
      ]
    },
    {
      "cell_type": "code",
      "execution_count": null,
      "id": "5ffbe422",
      "metadata": {},
      "outputs": [],
      "source": [
        "# ejercicio 3"
      ]
    },
    {
      "cell_type": "markdown",
      "id": "7c7574fd",
      "metadata": {},
      "source": [
        "## Segunda Parte (Clase 3 y 4)"
      ]
    },
    {
      "cell_type": "code",
      "execution_count": 2,
      "id": "aaf94e0a",
      "metadata": {
        "id": "aaf94e0a"
      },
      "outputs": [],
      "source": [
        "import pandas as pd\n",
        "import numpy as np\n",
        "import matplotlib.pyplot as plt\n",
        "import seaborn as sns\n",
        "\n",
        "# Entrenamiento de modelos de prueba\n",
        "from sklearn.linear_model import LinearRegression\n",
        "\n",
        "# Evaluación de modelos de prueba\n",
        "from sklearn.metrics import mean_squared_error\n",
        "\n",
        "# Crear datasets\n",
        "from sklearn.datasets import make_regression"
      ]
    },
    {
      "cell_type": "markdown",
      "id": "z4CnDndvBlc6",
      "metadata": {
        "id": "z4CnDndvBlc6"
      },
      "source": [
        "Vamos a crear un dataset sintetico utilizando las librerias de [Sklearn Datasets](https://scikit-learn.org/stable/modules/generated/sklearn.datasets.make_regression.html), en particular nos interesa crear un problema de regresion\n",
        "lineal al que podemos variarle sus parametros"
      ]
    },
    {
      "cell_type": "code",
      "execution_count": 8,
      "id": "65843123",
      "metadata": {
        "colab": {
          "base_uri": "https://localhost:8080/"
        },
        "id": "65843123",
        "outputId": "6589754e-2630-4c3d-cd45-b5f10ad8dc49"
      },
      "outputs": [
        {
          "data": {
            "text/plain": [
              "(1000, 2)"
            ]
          },
          "execution_count": 8,
          "metadata": {},
          "output_type": "execute_result"
        }
      ],
      "source": [
        "# Creamos un dataset de prueba\n",
        "X, y = make_regression(n_samples = 1000,\n",
        "                       n_features = 1,\n",
        "                       noise = 2,\n",
        "                       n_informative = 1,\n",
        "                       random_state = 42)\n",
        "\n",
        "new_data = np.append(X,y.reshape(-1,1),axis=1)\n",
        "new_data.shape"
      ]
    },
    {
      "cell_type": "code",
      "execution_count": 9,
      "id": "a52eSwfzCslx",
      "metadata": {
        "colab": {
          "base_uri": "https://localhost:8080/",
          "height": 206
        },
        "id": "a52eSwfzCslx",
        "outputId": "51d2ef98-ff3b-4182-966e-a03b1a14ba1a"
      },
      "outputs": [
        {
          "data": {
            "text/html": [
              "<div>\n",
              "<style scoped>\n",
              "    .dataframe tbody tr th:only-of-type {\n",
              "        vertical-align: middle;\n",
              "    }\n",
              "\n",
              "    .dataframe tbody tr th {\n",
              "        vertical-align: top;\n",
              "    }\n",
              "\n",
              "    .dataframe thead th {\n",
              "        text-align: right;\n",
              "    }\n",
              "</style>\n",
              "<table border=\"1\" class=\"dataframe\">\n",
              "  <thead>\n",
              "    <tr style=\"text-align: right;\">\n",
              "      <th></th>\n",
              "      <th>feature_1</th>\n",
              "      <th>target</th>\n",
              "    </tr>\n",
              "  </thead>\n",
              "  <tbody>\n",
              "    <tr>\n",
              "      <th>0</th>\n",
              "      <td>-1.758739</td>\n",
              "      <td>-30.118736</td>\n",
              "    </tr>\n",
              "    <tr>\n",
              "      <th>1</th>\n",
              "      <td>1.031845</td>\n",
              "      <td>14.526197</td>\n",
              "    </tr>\n",
              "    <tr>\n",
              "      <th>2</th>\n",
              "      <td>-0.487606</td>\n",
              "      <td>-10.119305</td>\n",
              "    </tr>\n",
              "    <tr>\n",
              "      <th>3</th>\n",
              "      <td>0.186454</td>\n",
              "      <td>1.700188</td>\n",
              "    </tr>\n",
              "    <tr>\n",
              "      <th>4</th>\n",
              "      <td>0.725767</td>\n",
              "      <td>12.345314</td>\n",
              "    </tr>\n",
              "  </tbody>\n",
              "</table>\n",
              "</div>"
            ],
            "text/plain": [
              "   feature_1     target\n",
              "0  -1.758739 -30.118736\n",
              "1   1.031845  14.526197\n",
              "2  -0.487606 -10.119305\n",
              "3   0.186454   1.700188\n",
              "4   0.725767  12.345314"
            ]
          },
          "execution_count": 9,
          "metadata": {},
          "output_type": "execute_result"
        }
      ],
      "source": [
        "df = pd.DataFrame(new_data)\n",
        "\n",
        "new_col = []\n",
        "i = 0\n",
        "for col in df.columns:\n",
        "    if i ==  len(df.columns) - 1:\n",
        "        new_col.append(\"target\")\n",
        "    else :\n",
        "        new_col.append(\"feature_\" + str(i+1))\n",
        "        \n",
        "    i += 1\n",
        "    \n",
        "df.columns = new_col\n",
        "\n",
        "df.head()"
      ]
    },
    {
      "cell_type": "code",
      "execution_count": 10,
      "id": "CBb_QmSZCPFZ",
      "metadata": {
        "colab": {
          "base_uri": "https://localhost:8080/",
          "height": 374
        },
        "id": "CBb_QmSZCPFZ",
        "outputId": "a7c8b051-581d-4267-8bad-5db770be6740"
      },
      "outputs": [
        {
          "data": {
            "image/png": "[encoded data removed]",
            "text/plain": [
              "<Figure size 2200x600 with 2 Axes>"
            ]
          },
          "metadata": {},
          "output_type": "display_data"
        }
      ],
      "source": [
        "fig,axes = plt.subplots(2,figsize=(22,6))\n",
        "axes[0].scatter(X,y)\n",
        "sns.histplot(X, ax=axes[1]);"
      ]
    },
    {
      "cell_type": "markdown",
      "id": "zTvu6e3KhEKG",
      "metadata": {
        "id": "zTvu6e3KhEKG"
      },
      "source": [
        "### Funciones auxiliares para generar datos anómalos"
      ]
    },
    {
      "cell_type": "code",
      "execution_count": 12,
      "id": "_LqDjS8chDkY",
      "metadata": {
        "id": "_LqDjS8chDkY"
      },
      "outputs": [],
      "source": [
        "def generate_outliers(df: pd.DataFrame,\n",
        "                     cols: list = None,\n",
        "                     extreme_outlier: bool = False,\n",
        "                     two_tailed: bool = False,\n",
        "                     percentage: float = 0.02) -> pd.DataFrame:\n",
        "  \"\"\"Con esta función vamos a poder generar outliers en ciertas columnas de nuestro\n",
        "  dataset. Si le damos True a _extreme_outlier_ va a generar outliers con mucho\n",
        "  peso en la regresión (puede ser bilateral o unilateral segun _two_tailed_)\n",
        "  \"\"\"  \n",
        "  seeds = np.random.randint(100, size = len(df))\n",
        "  \n",
        "  nsamples = np.math.floor(len(df) * percentage)\n",
        "  idx_to_change = df.sample(n = nsamples).index\n",
        "\n",
        "  cols = df.columns.tolist() if cols is None else cols\n",
        "\n",
        "  result = df.copy(deep = True)\n",
        "  \n",
        "  for i,col_name in enumerate(cols):\n",
        "    np.random.seed(seeds[i])\n",
        "\n",
        "    iqr = result[col_name].quantile(0.75) - result[col_name].quantile(0.25)\n",
        "\n",
        "    lb = result[col_name].quantile(0.25) - 1 * iqr\n",
        "    ub = result[col_name].quantile(0.75) + 1 * iqr\n",
        "\n",
        "    if two_tailed:\n",
        "      outs = result[col_name].loc[(result[col_name] < lb) | (result[col_name] > ub)]\n",
        "    else:\n",
        "      outs = result[col_name].loc[(result[col_name] > ub)]\n",
        "    \n",
        "    out_size = len(outs)\n",
        "    if out_size < nsamples:\n",
        "      nsamples = out_size\n",
        "\n",
        "    idx_to_change = outs.sample(nsamples, replace = False).index\n",
        "    \n",
        "    if extreme_outlier:\n",
        "      outlier_sign = [1 if np.random.random() < 0.9 else -1 for _ in range(nsamples)]\n",
        "      \n",
        "      result[col_name].loc[idx_to_change] = np.multiply(outlier_sign,\n",
        "                                                        np.random.uniform(low = result[col_name].mean(),\n",
        "                                                                          high = result[col_name].max()*5,\n",
        "                                                                          size = nsamples)\n",
        "                                                        )\n",
        "      result['target'].loc[idx_to_change] = np.multiply(outlier_sign,\n",
        "                                                        np.random.uniform(low = result['target'].mean(),\n",
        "                                                                          high = result['target'].max()*2,\n",
        "                                                                          size = nsamples)\n",
        "                                                        )\n",
        "    else:\n",
        "      samples = result[col_name].loc[idx_to_change].values\n",
        "      np.random.shuffle(samples)\n",
        "      result[col_name].loc[idx_to_change] = samples\n",
        "  \n",
        "  return result"
      ]
    },
    {
      "cell_type": "code",
      "execution_count": 13,
      "id": "mmnwCbF1gugP",
      "metadata": {
        "colab": {
          "base_uri": "https://localhost:8080/"
        },
        "id": "mmnwCbF1gugP",
        "outputId": "a27810fe-1f0f-40ef-99ac-dace0fc0eb92"
      },
      "outputs": [],
      "source": [
        "df_outlier = generate_outliers(df,['feature_1'], percentage = 0.05, extreme_outlier = True, two_tailed= True)"
      ]
    },
    {
      "cell_type": "code",
      "execution_count": 14,
      "id": "7b520928",
      "metadata": {},
      "outputs": [
        {
          "data": {
            "text/plain": [
              "<seaborn.axisgrid.FacetGrid at 0x148b66590>"
            ]
          },
          "execution_count": 14,
          "metadata": {},
          "output_type": "execute_result"
        },
        {
          "data": {
            "image/png": "[encoded data removed]",
            "text/plain": [
              "<Figure size 580x500 with 1 Axes>"
            ]
          },
          "metadata": {},
          "output_type": "display_data"
        }
      ],
      "source": [
        "sns.lmplot(data = pd.concat([df.assign(dataset = 'set1'),\n",
        "                                 df_outlier.assign(dataset = 'set2')]),\n",
        "                x = 'feature_1',\n",
        "                y = 'target',\n",
        "                hue = 'dataset')"
      ]
    },
    {
      "cell_type": "markdown",
      "id": "N_XkGtvw7J-i",
      "metadata": {
        "id": "N_XkGtvw7J-i"
      },
      "source": [
        "### Quinto ejercicio\n",
        "\n",
        "Crear una función que separe los datos en train-validation-test 70-20-10\n",
        "\n",
        "\n",
        "Hints: \n",
        "\n",
        "* Usar Indexing y slicing\n",
        "* Usar np.random.[...]"
      ]
    },
    {
      "cell_type": "code",
      "execution_count": 17,
      "id": "7f203357",
      "metadata": {},
      "outputs": [],
      "source": [
        "import pandas as pd\n",
        "import numpy as np\n",
        "import matplotlib.pyplot as plt"
      ]
    },
    {
      "cell_type": "code",
      "execution_count": 40,
      "id": "yIOYdDHz7Jkp",
      "metadata": {
        "id": "yIOYdDHz7Jkp"
      },
      "outputs": [
        {
          "name": "stdout",
          "output_type": "stream",
          "text": [
            "Dataset:\n",
            "    Number-of-cars  Rush-hour\n",
            "0             167          1\n",
            "1              53          1\n",
            "2              98          0\n",
            "3             136          1\n",
            "4             103          1\n",
            "\n",
            "training percentage: 0.7\n",
            "test percentage: 0.1\n",
            "trianing rows [18  1 19  8 10 17  6 13  4  2  5 14  9  7]\n",
            "validation rows [16 11  3  0]\n",
            "test rows[15 12]\n",
            "Total training data:  14\n",
            "Total validation data:  4\n",
            "Total test data:  2\n"
          ]
        },
        {
          "data": {
            "text/plain": [
              "<function matplotlib.pyplot.show(close=None, block=None)>"
            ]
          },
          "execution_count": 40,
          "metadata": {},
          "output_type": "execute_result"
        },
        {
          "data": {
            "image/png": "[encoded data removed]",
            "text/plain": [
              "<Figure size 640x480 with 1 Axes>"
            ]
          },
          "metadata": {},
          "output_type": "display_data"
        }
      ],
      "source": [
        "def split(df: pd.DataFrame, train_percentage: float, test_percentage: float):\n",
        "    \n",
        "    #defining X\n",
        "    x_layer = df['Number-of-cars']\n",
        "    #defining y\n",
        "    y_layer = df['Rush-hour']\n",
        "\n",
        "    np.random.seed(0)\n",
        "    df_length = len(df)\n",
        "    train_size = int(df_length * train_percentage)\n",
        "\n",
        "    #Permuting rows in the dataset to avoid any kind of pattern\n",
        "    permute_index = np.random.permutation(df_length)\n",
        "    #get train data using slicing\n",
        "    train_df = permute_index[0:train_size]\n",
        "    print(f\"trianing rows {train_df}\")\n",
        "    #get validation data using slicing\n",
        "    valid_df = permute_index[train_size:int(df_length - test_percentage * df_length)]\n",
        "    print(f\"validation rows {valid_df}\")\n",
        "    #get test data\n",
        "    test_df = permute_index[int(df_length - test_percentage * df_length):df_length]\n",
        "    print(f\"test rows{test_df}\")\n",
        "\n",
        "    print(\"Total training data: \",len(train_df))\n",
        "    print(\"Total validation data: \",len(valid_df))\n",
        "    print(\"Total test data: \",len(test_df))\n",
        "    \n",
        "    #X train-validation-test\n",
        "    X_train = x_layer[train_df]\n",
        "    X_val = x_layer[valid_df]\n",
        "    X_test = x_layer[test_df]\n",
        "\n",
        "    #X train-validation-test\n",
        "    Y_train = y_layer[train_df]\n",
        "    Y_val = y_layer[valid_df]\n",
        "    Y_test =y_layer[test_df]\n",
        "\n",
        "    return  X_train, X_val, X_test, Y_train, Y_val, Y_test\n",
        "\n",
        "#Generating data\n",
        "num_car = np.random.randint(5,200, size=(20))\n",
        "rush_hour = np.random.binomial(1,0.5,size=[20])\n",
        "data = {'Number-of-cars': num_car, \n",
        "        'Rush-hour': rush_hour}\n",
        "#print(f\"Generating data:\\n {data}\\n\")\n",
        "#Generating data frame\n",
        "dataset = pd.DataFrame(data)\n",
        "print(f\"Dataset:\\n {dataset.head()}\\n\")\n",
        "#training size\n",
        "train_percentage = 0.7\n",
        "print(f\"training percentage: {train_percentage}\")\n",
        "#test size\n",
        "test_percentage = 0.1\n",
        "print(f\"test percentage: {test_percentage}\")\n",
        "\n",
        "#splitting dataset in train, validation and test\n",
        "X_train, X_val, X_test, Y_train, Y_val, Y_test = split(dataset, train_percentage, test_percentage)\n",
        "plt.scatter(X_train, Y_train, color='b')\n",
        "plt.scatter(X_test, Y_test, color = 'k')\n",
        "plt.scatter(X_val, Y_val)\n",
        "plt.show"
      ]
    },
    {
      "attachments": {},
      "cell_type": "markdown",
      "id": "b77ad81a",
      "metadata": {
        "id": "b77ad81a"
      },
      "source": [
        "### Sexto ejercicio\n",
        "\n",
        "Utilizando la funcion `generate_outliers` generar puntos extremos dentro de los datos que generamos anteriormente. En este ejercicio dejar setteado `extreme_outliers` como `False` y observe como variando el porcentaje de los mismos la regresión comienza a afectarse.\n",
        "\n",
        "Pasos:\n",
        "\n",
        "1. Generar datasets:\n",
        "* Uno normal con poco `noise` y pocos outliers\n",
        "* Uno con mucho `noise` y pocos outliers\n",
        "* Uno con poco `noise` y muchos outliers\n",
        "* Uno con mucho `noise` y muchos outliers\n",
        "2. Probar los distintos regresores a ver como se comportan frente a estos datasets anómalos.\n",
        "3. Comparar y analizar resultados."
      ]
    },
    {
      "cell_type": "code",
      "execution_count": 1,
      "id": "2bd249cf",
      "metadata": {},
      "outputs": [],
      "source": [
        "import pandas as pd\n",
        "import numpy as np\n",
        "import matplotlib.pyplot as plt\n",
        "import seaborn as sns\n",
        "\n",
        "# Entrenamiento de modelos de prueba\n",
        "from sklearn.linear_model import LinearRegression, HuberRegressor, ElasticNetCV\n",
        "\n",
        "# Crear datasets\n",
        "from sklearn.datasets import make_regression"
      ]
    },
    {
      "cell_type": "code",
      "execution_count": 2,
      "id": "85352f86",
      "metadata": {},
      "outputs": [],
      "source": [
        "def generate_outliers(df: pd.DataFrame,\n",
        "                     cols: list = None,\n",
        "                     extreme_outlier: bool = False,\n",
        "                     two_tailed: bool = False,\n",
        "                     percentage: float = 0.02) -> pd.DataFrame:\n",
        "  \"\"\"Con esta función vamos a poder generar outliers en ciertas columnas de nuestro\n",
        "  dataset. Si le damos True a _extreme_outlier_ va a generar outliers con mucho\n",
        "  peso en la regresión (puede ser bilateral o unilateral segun _two_tailed_)\n",
        "  \"\"\"  \n",
        "  seeds = np.random.randint(100, size = len(df))\n",
        "  \n",
        "  nsamples = np.math.floor(len(df) * percentage)\n",
        "  idx_to_change = df.sample(n = nsamples).index\n",
        "\n",
        "  cols = df.columns.tolist() if cols is None else cols\n",
        "\n",
        "  result = df.copy(deep = True)\n",
        "  \n",
        "  for i,col_name in enumerate(cols):\n",
        "    np.random.seed(seeds[i])\n",
        "\n",
        "    iqr = result[col_name].quantile(0.75) - result[col_name].quantile(0.25)\n",
        "\n",
        "    lb = result[col_name].quantile(0.25) - 1 * iqr\n",
        "    ub = result[col_name].quantile(0.75) + 1 * iqr\n",
        "\n",
        "    if two_tailed:\n",
        "      outs = result[col_name].loc[(result[col_name] < lb) | (result[col_name] > ub)]\n",
        "    else:\n",
        "      outs = result[col_name].loc[(result[col_name] > ub)]\n",
        "    \n",
        "    out_size = len(outs)\n",
        "    if out_size < nsamples:\n",
        "      nsamples = out_size\n",
        "\n",
        "    idx_to_change = outs.sample(nsamples, replace = False).index\n",
        "    \n",
        "    if extreme_outlier:\n",
        "      outlier_sign = [1 if np.random.random() < 0.9 else -1 for _ in range(nsamples)]\n",
        "      \n",
        "      result[col_name].loc[idx_to_change] = np.multiply(outlier_sign,\n",
        "                                                        np.random.uniform(low = result[col_name].mean(),\n",
        "                                                                          high = result[col_name].max()*5,\n",
        "                                                                          size = nsamples)\n",
        "                                                        )\n",
        "      result['target'].loc[idx_to_change] = np.multiply(outlier_sign,\n",
        "                                                        np.random.uniform(low = result['target'].mean(),\n",
        "                                                                          high = result['target'].max()*2,\n",
        "                                                                          size = nsamples)\n",
        "                                                        )\n",
        "    else:\n",
        "      samples = result[col_name].loc[idx_to_change].values\n",
        "      np.random.shuffle(samples)\n",
        "      result[col_name].loc[idx_to_change] = samples\n",
        "  \n",
        "  return result"
      ]
    },
    {
      "cell_type": "code",
      "execution_count": 3,
      "id": "d14581e4",
      "metadata": {},
      "outputs": [],
      "source": [
        "# Creamos funcion que arma dataset\n",
        "def dataset_build(samples: int, feature: int, noi: int, infor: int, random: int):\n",
        "    x_input01, y_output01 = make_regression(n_samples = samples,\n",
        "                        n_features = feature,\n",
        "                        noise = noi,\n",
        "                        n_informative = infor,\n",
        "                        random_state = random)\n",
        "\n",
        "    data = np.append(x_input01,y_output01.reshape(-1,1),axis=1)\n",
        "\n",
        "    df = pd.DataFrame(data)\n",
        "\n",
        "    new_col = []\n",
        "    i = 0\n",
        "    for col in df.columns:\n",
        "        if i ==  len(df.columns) - 1:\n",
        "            new_col.append(\"target\")\n",
        "        else :\n",
        "            new_col.append(\"feature_\" + str(i+1))\n",
        "        i += 1\n",
        "        \n",
        "    df.columns = new_col\n",
        "    return df"
      ]
    },
    {
      "cell_type": "code",
      "execution_count": 4,
      "id": "41edbe02",
      "metadata": {},
      "outputs": [
        {
          "data": {
            "text/html": [
              "<div>\n",
              "<style scoped>\n",
              "    .dataframe tbody tr th:only-of-type {\n",
              "        vertical-align: middle;\n",
              "    }\n",
              "\n",
              "    .dataframe tbody tr th {\n",
              "        vertical-align: top;\n",
              "    }\n",
              "\n",
              "    .dataframe thead th {\n",
              "        text-align: right;\n",
              "    }\n",
              "</style>\n",
              "<table border=\"1\" class=\"dataframe\">\n",
              "  <thead>\n",
              "    <tr style=\"text-align: right;\">\n",
              "      <th></th>\n",
              "      <th>feature_1</th>\n",
              "      <th>feature_2</th>\n",
              "      <th>target</th>\n",
              "    </tr>\n",
              "  </thead>\n",
              "  <tbody>\n",
              "    <tr>\n",
              "      <th>0</th>\n",
              "      <td>-1.191303</td>\n",
              "      <td>0.656554</td>\n",
              "      <td>-54.562069</td>\n",
              "    </tr>\n",
              "    <tr>\n",
              "      <th>1</th>\n",
              "      <td>0.058209</td>\n",
              "      <td>-1.142970</td>\n",
              "      <td>-80.680939</td>\n",
              "    </tr>\n",
              "    <tr>\n",
              "      <th>2</th>\n",
              "      <td>0.586857</td>\n",
              "      <td>2.190456</td>\n",
              "      <td>213.246203</td>\n",
              "    </tr>\n",
              "    <tr>\n",
              "      <th>3</th>\n",
              "      <td>0.473238</td>\n",
              "      <td>-0.072829</td>\n",
              "      <td>34.739838</td>\n",
              "    </tr>\n",
              "    <tr>\n",
              "      <th>4</th>\n",
              "      <td>0.738467</td>\n",
              "      <td>0.171368</td>\n",
              "      <td>78.858014</td>\n",
              "    </tr>\n",
              "  </tbody>\n",
              "</table>\n",
              "</div>"
            ],
            "text/plain": [
              "   feature_1  feature_2      target\n",
              "0  -1.191303   0.656554  -54.562069\n",
              "1   0.058209  -1.142970  -80.680939\n",
              "2   0.586857   2.190456  213.246203\n",
              "3   0.473238  -0.072829   34.739838\n",
              "4   0.738467   0.171368   78.858014"
            ]
          },
          "execution_count": 4,
          "metadata": {},
          "output_type": "execute_result"
        }
      ],
      "source": [
        "#Dataset normal con poco noise y pocos outliers\n",
        "dataset_01 = dataset_build(samples = 100, feature = 2, noi = 2, infor = 3, random = 42)\n",
        "dataset_01.head()"
      ]
    },
    {
      "cell_type": "code",
      "execution_count": 5,
      "id": "a709b193",
      "metadata": {},
      "outputs": [
        {
          "data": {
            "text/html": [
              "<div>\n",
              "<style scoped>\n",
              "    .dataframe tbody tr th:only-of-type {\n",
              "        vertical-align: middle;\n",
              "    }\n",
              "\n",
              "    .dataframe tbody tr th {\n",
              "        vertical-align: top;\n",
              "    }\n",
              "\n",
              "    .dataframe thead th {\n",
              "        text-align: right;\n",
              "    }\n",
              "</style>\n",
              "<table border=\"1\" class=\"dataframe\">\n",
              "  <thead>\n",
              "    <tr style=\"text-align: right;\">\n",
              "      <th></th>\n",
              "      <th>feature_1</th>\n",
              "      <th>feature_2</th>\n",
              "      <th>feature_3</th>\n",
              "      <th>target</th>\n",
              "    </tr>\n",
              "  </thead>\n",
              "  <tbody>\n",
              "    <tr>\n",
              "      <th>0</th>\n",
              "      <td>-0.815810</td>\n",
              "      <td>0.341152</td>\n",
              "      <td>-0.077102</td>\n",
              "      <td>75.341760</td>\n",
              "    </tr>\n",
              "    <tr>\n",
              "      <th>1</th>\n",
              "      <td>1.441273</td>\n",
              "      <td>1.163164</td>\n",
              "      <td>-1.435862</td>\n",
              "      <td>-204.577571</td>\n",
              "    </tr>\n",
              "    <tr>\n",
              "      <th>2</th>\n",
              "      <td>-0.342715</td>\n",
              "      <td>-0.161286</td>\n",
              "      <td>-0.802277</td>\n",
              "      <td>-52.996075</td>\n",
              "    </tr>\n",
              "    <tr>\n",
              "      <th>3</th>\n",
              "      <td>0.259883</td>\n",
              "      <td>-1.236951</td>\n",
              "      <td>0.781823</td>\n",
              "      <td>134.443416</td>\n",
              "    </tr>\n",
              "    <tr>\n",
              "      <th>4</th>\n",
              "      <td>0.865755</td>\n",
              "      <td>-0.334501</td>\n",
              "      <td>-1.200296</td>\n",
              "      <td>11.187345</td>\n",
              "    </tr>\n",
              "  </tbody>\n",
              "</table>\n",
              "</div>"
            ],
            "text/plain": [
              "   feature_1  feature_2  feature_3      target\n",
              "0  -0.815810   0.341152  -0.077102   75.341760\n",
              "1   1.441273   1.163164  -1.435862 -204.577571\n",
              "2  -0.342715  -0.161286  -0.802277  -52.996075\n",
              "3   0.259883  -1.236951   0.781823  134.443416\n",
              "4   0.865755  -0.334501  -1.200296   11.187345"
            ]
          },
          "execution_count": 5,
          "metadata": {},
          "output_type": "execute_result"
        }
      ],
      "source": [
        "#Dataset con mucho noise y pocos outliers\n",
        "dataset_02 = dataset_build(samples = 100, feature = 3, noi = 100, infor = 1, random = 42)\n",
        "dataset_02.head()"
      ]
    },
    {
      "cell_type": "code",
      "execution_count": 6,
      "id": "6cebc196",
      "metadata": {},
      "outputs": [
        {
          "data": {
            "text/html": [
              "<div>\n",
              "<style scoped>\n",
              "    .dataframe tbody tr th:only-of-type {\n",
              "        vertical-align: middle;\n",
              "    }\n",
              "\n",
              "    .dataframe tbody tr th {\n",
              "        vertical-align: top;\n",
              "    }\n",
              "\n",
              "    .dataframe thead th {\n",
              "        text-align: right;\n",
              "    }\n",
              "</style>\n",
              "<table border=\"1\" class=\"dataframe\">\n",
              "  <thead>\n",
              "    <tr style=\"text-align: right;\">\n",
              "      <th></th>\n",
              "      <th>feature_1</th>\n",
              "      <th>feature_2</th>\n",
              "      <th>feature_3</th>\n",
              "      <th>feature_4</th>\n",
              "      <th>feature_5</th>\n",
              "      <th>feature_6</th>\n",
              "      <th>feature_7</th>\n",
              "      <th>feature_8</th>\n",
              "      <th>feature_9</th>\n",
              "      <th>feature_10</th>\n",
              "      <th>...</th>\n",
              "      <th>feature_92</th>\n",
              "      <th>feature_93</th>\n",
              "      <th>feature_94</th>\n",
              "      <th>feature_95</th>\n",
              "      <th>feature_96</th>\n",
              "      <th>feature_97</th>\n",
              "      <th>feature_98</th>\n",
              "      <th>feature_99</th>\n",
              "      <th>feature_100</th>\n",
              "      <th>target</th>\n",
              "    </tr>\n",
              "  </thead>\n",
              "  <tbody>\n",
              "    <tr>\n",
              "      <th>0</th>\n",
              "      <td>-0.160360</td>\n",
              "      <td>1.497432</td>\n",
              "      <td>-1.066235</td>\n",
              "      <td>-1.051310</td>\n",
              "      <td>0.051198</td>\n",
              "      <td>0.232787</td>\n",
              "      <td>0.904018</td>\n",
              "      <td>-0.197938</td>\n",
              "      <td>0.879417</td>\n",
              "      <td>1.220821</td>\n",
              "      <td>...</td>\n",
              "      <td>-0.533600</td>\n",
              "      <td>0.500240</td>\n",
              "      <td>0.286956</td>\n",
              "      <td>1.239584</td>\n",
              "      <td>-1.567859</td>\n",
              "      <td>-1.293508</td>\n",
              "      <td>1.311984</td>\n",
              "      <td>1.194592</td>\n",
              "      <td>-0.396230</td>\n",
              "      <td>475.663750</td>\n",
              "    </tr>\n",
              "    <tr>\n",
              "      <th>1</th>\n",
              "      <td>0.231607</td>\n",
              "      <td>-0.740490</td>\n",
              "      <td>-0.498634</td>\n",
              "      <td>0.366814</td>\n",
              "      <td>0.970316</td>\n",
              "      <td>-0.054778</td>\n",
              "      <td>1.333886</td>\n",
              "      <td>0.327811</td>\n",
              "      <td>-2.833030</td>\n",
              "      <td>0.659531</td>\n",
              "      <td>...</td>\n",
              "      <td>0.037697</td>\n",
              "      <td>0.898669</td>\n",
              "      <td>0.020106</td>\n",
              "      <td>-1.268137</td>\n",
              "      <td>0.082987</td>\n",
              "      <td>-1.494038</td>\n",
              "      <td>0.046006</td>\n",
              "      <td>-1.478547</td>\n",
              "      <td>-0.168259</td>\n",
              "      <td>73.937197</td>\n",
              "    </tr>\n",
              "    <tr>\n",
              "      <th>2</th>\n",
              "      <td>0.292715</td>\n",
              "      <td>0.466545</td>\n",
              "      <td>1.386349</td>\n",
              "      <td>1.101323</td>\n",
              "      <td>-0.098845</td>\n",
              "      <td>1.695723</td>\n",
              "      <td>-0.218653</td>\n",
              "      <td>0.252569</td>\n",
              "      <td>0.140983</td>\n",
              "      <td>-0.674934</td>\n",
              "      <td>...</td>\n",
              "      <td>2.046862</td>\n",
              "      <td>-0.222475</td>\n",
              "      <td>-1.284584</td>\n",
              "      <td>-0.924564</td>\n",
              "      <td>-1.255135</td>\n",
              "      <td>-0.515218</td>\n",
              "      <td>-0.080878</td>\n",
              "      <td>1.023531</td>\n",
              "      <td>-1.597599</td>\n",
              "      <td>564.014651</td>\n",
              "    </tr>\n",
              "    <tr>\n",
              "      <th>3</th>\n",
              "      <td>1.628397</td>\n",
              "      <td>-0.557492</td>\n",
              "      <td>-0.309116</td>\n",
              "      <td>2.210523</td>\n",
              "      <td>0.543298</td>\n",
              "      <td>0.558327</td>\n",
              "      <td>1.236093</td>\n",
              "      <td>0.043811</td>\n",
              "      <td>-0.581681</td>\n",
              "      <td>-1.243863</td>\n",
              "      <td>...</td>\n",
              "      <td>1.749577</td>\n",
              "      <td>-1.402605</td>\n",
              "      <td>0.141717</td>\n",
              "      <td>-1.103367</td>\n",
              "      <td>0.833529</td>\n",
              "      <td>-1.331233</td>\n",
              "      <td>0.609138</td>\n",
              "      <td>-0.920674</td>\n",
              "      <td>-2.152891</td>\n",
              "      <td>-26.390671</td>\n",
              "    </tr>\n",
              "    <tr>\n",
              "      <th>4</th>\n",
              "      <td>-0.045123</td>\n",
              "      <td>1.318197</td>\n",
              "      <td>0.072252</td>\n",
              "      <td>0.111129</td>\n",
              "      <td>1.127686</td>\n",
              "      <td>0.898360</td>\n",
              "      <td>-0.426804</td>\n",
              "      <td>-0.516847</td>\n",
              "      <td>-0.143660</td>\n",
              "      <td>-0.185098</td>\n",
              "      <td>...</td>\n",
              "      <td>0.028776</td>\n",
              "      <td>-0.068446</td>\n",
              "      <td>1.098485</td>\n",
              "      <td>0.842514</td>\n",
              "      <td>-1.037991</td>\n",
              "      <td>1.267960</td>\n",
              "      <td>-0.187859</td>\n",
              "      <td>0.683212</td>\n",
              "      <td>0.754959</td>\n",
              "      <td>77.654012</td>\n",
              "    </tr>\n",
              "  </tbody>\n",
              "</table>\n",
              "<p>5 rows × 101 columns</p>\n",
              "</div>"
            ],
            "text/plain": [
              "   feature_1  feature_2  feature_3  feature_4  feature_5  feature_6  \\\n",
              "0  -0.160360   1.497432  -1.066235  -1.051310   0.051198   0.232787   \n",
              "1   0.231607  -0.740490  -0.498634   0.366814   0.970316  -0.054778   \n",
              "2   0.292715   0.466545   1.386349   1.101323  -0.098845   1.695723   \n",
              "3   1.628397  -0.557492  -0.309116   2.210523   0.543298   0.558327   \n",
              "4  -0.045123   1.318197   0.072252   0.111129   1.127686   0.898360   \n",
              "\n",
              "   feature_7  feature_8  feature_9  feature_10  ...  feature_92  feature_93  \\\n",
              "0   0.904018  -0.197938   0.879417    1.220821  ...   -0.533600    0.500240   \n",
              "1   1.333886   0.327811  -2.833030    0.659531  ...    0.037697    0.898669   \n",
              "2  -0.218653   0.252569   0.140983   -0.674934  ...    2.046862   -0.222475   \n",
              "3   1.236093   0.043811  -0.581681   -1.243863  ...    1.749577   -1.402605   \n",
              "4  -0.426804  -0.516847  -0.143660   -0.185098  ...    0.028776   -0.068446   \n",
              "\n",
              "   feature_94  feature_95  feature_96  feature_97  feature_98  feature_99  \\\n",
              "0    0.286956    1.239584   -1.567859   -1.293508    1.311984    1.194592   \n",
              "1    0.020106   -1.268137    0.082987   -1.494038    0.046006   -1.478547   \n",
              "2   -1.284584   -0.924564   -1.255135   -0.515218   -0.080878    1.023531   \n",
              "3    0.141717   -1.103367    0.833529   -1.331233    0.609138   -0.920674   \n",
              "4    1.098485    0.842514   -1.037991    1.267960   -0.187859    0.683212   \n",
              "\n",
              "   feature_100      target  \n",
              "0    -0.396230  475.663750  \n",
              "1    -0.168259   73.937197  \n",
              "2    -1.597599  564.014651  \n",
              "3    -2.152891  -26.390671  \n",
              "4     0.754959   77.654012  \n",
              "\n",
              "[5 rows x 101 columns]"
            ]
          },
          "execution_count": 6,
          "metadata": {},
          "output_type": "execute_result"
        }
      ],
      "source": [
        "#Dataset con poco noise y muchos outliers\n",
        "dataset_03 = dataset_build(samples = 100, feature = 100, noi = 2, infor = 50, random = 42)\n",
        "dataset_03.head()"
      ]
    },
    {
      "cell_type": "code",
      "execution_count": 7,
      "id": "a1891f81",
      "metadata": {},
      "outputs": [
        {
          "data": {
            "text/html": [
              "<div>\n",
              "<style scoped>\n",
              "    .dataframe tbody tr th:only-of-type {\n",
              "        vertical-align: middle;\n",
              "    }\n",
              "\n",
              "    .dataframe tbody tr th {\n",
              "        vertical-align: top;\n",
              "    }\n",
              "\n",
              "    .dataframe thead th {\n",
              "        text-align: right;\n",
              "    }\n",
              "</style>\n",
              "<table border=\"1\" class=\"dataframe\">\n",
              "  <thead>\n",
              "    <tr style=\"text-align: right;\">\n",
              "      <th></th>\n",
              "      <th>feature_1</th>\n",
              "      <th>feature_2</th>\n",
              "      <th>feature_3</th>\n",
              "      <th>feature_4</th>\n",
              "      <th>feature_5</th>\n",
              "      <th>feature_6</th>\n",
              "      <th>feature_7</th>\n",
              "      <th>feature_8</th>\n",
              "      <th>feature_9</th>\n",
              "      <th>feature_10</th>\n",
              "      <th>...</th>\n",
              "      <th>feature_92</th>\n",
              "      <th>feature_93</th>\n",
              "      <th>feature_94</th>\n",
              "      <th>feature_95</th>\n",
              "      <th>feature_96</th>\n",
              "      <th>feature_97</th>\n",
              "      <th>feature_98</th>\n",
              "      <th>feature_99</th>\n",
              "      <th>feature_100</th>\n",
              "      <th>target</th>\n",
              "    </tr>\n",
              "  </thead>\n",
              "  <tbody>\n",
              "    <tr>\n",
              "      <th>0</th>\n",
              "      <td>-0.160360</td>\n",
              "      <td>1.497432</td>\n",
              "      <td>-1.066235</td>\n",
              "      <td>-1.051310</td>\n",
              "      <td>0.051198</td>\n",
              "      <td>0.232787</td>\n",
              "      <td>0.904018</td>\n",
              "      <td>-0.197938</td>\n",
              "      <td>0.879417</td>\n",
              "      <td>1.220821</td>\n",
              "      <td>...</td>\n",
              "      <td>-0.533600</td>\n",
              "      <td>0.500240</td>\n",
              "      <td>0.286956</td>\n",
              "      <td>1.239584</td>\n",
              "      <td>-1.567859</td>\n",
              "      <td>-1.293508</td>\n",
              "      <td>1.311984</td>\n",
              "      <td>1.194592</td>\n",
              "      <td>-0.396230</td>\n",
              "      <td>369.988874</td>\n",
              "    </tr>\n",
              "    <tr>\n",
              "      <th>1</th>\n",
              "      <td>0.231607</td>\n",
              "      <td>-0.740490</td>\n",
              "      <td>-0.498634</td>\n",
              "      <td>0.366814</td>\n",
              "      <td>0.970316</td>\n",
              "      <td>-0.054778</td>\n",
              "      <td>1.333886</td>\n",
              "      <td>0.327811</td>\n",
              "      <td>-2.833030</td>\n",
              "      <td>0.659531</td>\n",
              "      <td>...</td>\n",
              "      <td>0.037697</td>\n",
              "      <td>0.898669</td>\n",
              "      <td>0.020106</td>\n",
              "      <td>-1.268137</td>\n",
              "      <td>0.082987</td>\n",
              "      <td>-1.494038</td>\n",
              "      <td>0.046006</td>\n",
              "      <td>-1.478547</td>\n",
              "      <td>-0.168259</td>\n",
              "      <td>34.725471</td>\n",
              "    </tr>\n",
              "    <tr>\n",
              "      <th>2</th>\n",
              "      <td>0.292715</td>\n",
              "      <td>0.466545</td>\n",
              "      <td>1.386349</td>\n",
              "      <td>1.101323</td>\n",
              "      <td>-0.098845</td>\n",
              "      <td>1.695723</td>\n",
              "      <td>-0.218653</td>\n",
              "      <td>0.252569</td>\n",
              "      <td>0.140983</td>\n",
              "      <td>-0.674934</td>\n",
              "      <td>...</td>\n",
              "      <td>2.046862</td>\n",
              "      <td>-0.222475</td>\n",
              "      <td>-1.284584</td>\n",
              "      <td>-0.924564</td>\n",
              "      <td>-1.255135</td>\n",
              "      <td>-0.515218</td>\n",
              "      <td>-0.080878</td>\n",
              "      <td>1.023531</td>\n",
              "      <td>-1.597599</td>\n",
              "      <td>499.644775</td>\n",
              "    </tr>\n",
              "    <tr>\n",
              "      <th>3</th>\n",
              "      <td>1.628397</td>\n",
              "      <td>-0.557492</td>\n",
              "      <td>-0.309116</td>\n",
              "      <td>2.210523</td>\n",
              "      <td>0.543298</td>\n",
              "      <td>0.558327</td>\n",
              "      <td>1.236093</td>\n",
              "      <td>0.043811</td>\n",
              "      <td>-0.581681</td>\n",
              "      <td>-1.243863</td>\n",
              "      <td>...</td>\n",
              "      <td>1.749577</td>\n",
              "      <td>-1.402605</td>\n",
              "      <td>0.141717</td>\n",
              "      <td>-1.103367</td>\n",
              "      <td>0.833529</td>\n",
              "      <td>-1.331233</td>\n",
              "      <td>0.609138</td>\n",
              "      <td>-0.920674</td>\n",
              "      <td>-2.152891</td>\n",
              "      <td>-134.626950</td>\n",
              "    </tr>\n",
              "    <tr>\n",
              "      <th>4</th>\n",
              "      <td>-0.045123</td>\n",
              "      <td>1.318197</td>\n",
              "      <td>0.072252</td>\n",
              "      <td>0.111129</td>\n",
              "      <td>1.127686</td>\n",
              "      <td>0.898360</td>\n",
              "      <td>-0.426804</td>\n",
              "      <td>-0.516847</td>\n",
              "      <td>-0.143660</td>\n",
              "      <td>-0.185098</td>\n",
              "      <td>...</td>\n",
              "      <td>0.028776</td>\n",
              "      <td>-0.068446</td>\n",
              "      <td>1.098485</td>\n",
              "      <td>0.842514</td>\n",
              "      <td>-1.037991</td>\n",
              "      <td>1.267960</td>\n",
              "      <td>-0.187859</td>\n",
              "      <td>0.683212</td>\n",
              "      <td>0.754959</td>\n",
              "      <td>24.120139</td>\n",
              "    </tr>\n",
              "  </tbody>\n",
              "</table>\n",
              "<p>5 rows × 101 columns</p>\n",
              "</div>"
            ],
            "text/plain": [
              "   feature_1  feature_2  feature_3  feature_4  feature_5  feature_6  \\\n",
              "0  -0.160360   1.497432  -1.066235  -1.051310   0.051198   0.232787   \n",
              "1   0.231607  -0.740490  -0.498634   0.366814   0.970316  -0.054778   \n",
              "2   0.292715   0.466545   1.386349   1.101323  -0.098845   1.695723   \n",
              "3   1.628397  -0.557492  -0.309116   2.210523   0.543298   0.558327   \n",
              "4  -0.045123   1.318197   0.072252   0.111129   1.127686   0.898360   \n",
              "\n",
              "   feature_7  feature_8  feature_9  feature_10  ...  feature_92  feature_93  \\\n",
              "0   0.904018  -0.197938   0.879417    1.220821  ...   -0.533600    0.500240   \n",
              "1   1.333886   0.327811  -2.833030    0.659531  ...    0.037697    0.898669   \n",
              "2  -0.218653   0.252569   0.140983   -0.674934  ...    2.046862   -0.222475   \n",
              "3   1.236093   0.043811  -0.581681   -1.243863  ...    1.749577   -1.402605   \n",
              "4  -0.426804  -0.516847  -0.143660   -0.185098  ...    0.028776   -0.068446   \n",
              "\n",
              "   feature_94  feature_95  feature_96  feature_97  feature_98  feature_99  \\\n",
              "0    0.286956    1.239584   -1.567859   -1.293508    1.311984    1.194592   \n",
              "1    0.020106   -1.268137    0.082987   -1.494038    0.046006   -1.478547   \n",
              "2   -1.284584   -0.924564   -1.255135   -0.515218   -0.080878    1.023531   \n",
              "3    0.141717   -1.103367    0.833529   -1.331233    0.609138   -0.920674   \n",
              "4    1.098485    0.842514   -1.037991    1.267960   -0.187859    0.683212   \n",
              "\n",
              "   feature_100      target  \n",
              "0    -0.396230  369.988874  \n",
              "1    -0.168259   34.725471  \n",
              "2    -1.597599  499.644775  \n",
              "3    -2.152891 -134.626950  \n",
              "4     0.754959   24.120139  \n",
              "\n",
              "[5 rows x 101 columns]"
            ]
          },
          "execution_count": 7,
          "metadata": {},
          "output_type": "execute_result"
        }
      ],
      "source": [
        "#Dataset con mucho noise y muchos outliers\n",
        "dataset_04 = dataset_build(samples = 100, feature = 100, noi = 100, infor = 50, random = 42)\n",
        "dataset_04.head()"
      ]
    },
    {
      "cell_type": "code",
      "execution_count": 8,
      "id": "97800b45",
      "metadata": {},
      "outputs": [],
      "source": [
        "df_outlier = generate_outliers(dataset_01,['feature_1'], percentage = 0.05, extreme_outlier = False, two_tailed= True)"
      ]
    },
    {
      "cell_type": "code",
      "execution_count": 9,
      "id": "8de4b8f5",
      "metadata": {},
      "outputs": [
        {
          "data": {
            "text/plain": [
              "<seaborn.axisgrid.FacetGrid at 0x103c69e70>"
            ]
          },
          "execution_count": 9,
          "metadata": {},
          "output_type": "execute_result"
        },
        {
          "data": {
            "image/png": "[encoded data removed]",
            "text/plain": [
              "<Figure size 580x500 with 1 Axes>"
            ]
          },
          "metadata": {},
          "output_type": "display_data"
        }
      ],
      "source": [
        "sns.lmplot(data = pd.concat([dataset_01.assign(dataset = 'set1'),\n",
        "                                 df_outlier.assign(dataset = 'set2')]),\n",
        "                x = 'feature_1',\n",
        "                y = 'target',\n",
        "                hue = 'dataset')"
      ]
    },
    {
      "cell_type": "code",
      "execution_count": 16,
      "id": "e8587259",
      "metadata": {},
      "outputs": [],
      "source": [
        "#spliting function\n",
        "def split(df: pd.DataFrame, train_percentage: float, test_percentage: float):\n",
        "    \n",
        "    #defining X\n",
        "    x_layer = df['feature_1']\n",
        "    #defining y\n",
        "    y_layer = df['target']\n",
        "\n",
        "    np.random.seed(0)\n",
        "    df_length = len(df)\n",
        "    train_size = int(df_length * train_percentage)\n",
        "\n",
        "    #Permuting rows in the dataset to avoid any kind of pattern\n",
        "    permute_index = np.random.permutation(df_length)\n",
        "    #get train data using slicing\n",
        "    train_df = permute_index[0:train_size]\n",
        "\n",
        "    #get validation data using slicing\n",
        "    valid_df = permute_index[train_size:int(df_length - test_percentage * df_length)]\n",
        "    \n",
        "    #get test data\n",
        "    test_df = permute_index[int(df_length - test_percentage * df_length):df_length]\n",
        "    \n",
        "    \n",
        "    #X train-validation-test\n",
        "    X_train = x_layer[train_df]\n",
        "    X_val = x_layer[valid_df]\n",
        "    X_test = x_layer[test_df]\n",
        "\n",
        "    #X train-validation-test\n",
        "    Y_train = y_layer[train_df]\n",
        "    Y_val = y_layer[valid_df]\n",
        "    Y_test =y_layer[test_df]\n",
        "\n",
        "    return  X_train, X_val, X_test, Y_train, Y_val, Y_test"
      ]
    },
    {
      "cell_type": "code",
      "execution_count": 33,
      "id": "39245b1e",
      "metadata": {},
      "outputs": [
        {
          "name": "stdout",
          "output_type": "stream",
          "text": [
            "0.38977043129867917\n"
          ]
        },
        {
          "data": {
            "text/plain": [
              "<function matplotlib.pyplot.show(close=None, block=None)>"
            ]
          },
          "execution_count": 33,
          "metadata": {},
          "output_type": "execute_result"
        },
        {
          "data": {
            "image/png": "[encoded data removed]",
            "text/plain": [
              "<Figure size 640x480 with 1 Axes>"
            ]
          },
          "metadata": {},
          "output_type": "display_data"
        }
      ],
      "source": [
        "#get data splitted in train validation and test for dataset01\n",
        "train_percentage = 0.7\n",
        "test_percentage = 0.1\n",
        "X_train, X_val, X_test, Y_train, Y_val, Y_test = split(df_outlier, train_percentage, test_percentage)\n",
        "\n",
        "#passing tuple to array format and reshaping\n",
        "X_train = np.array(X_train).reshape(-1,1)\n",
        "X_test = np.array(X_test).reshape(-1,1)\n",
        "Y_train = np.array(Y_train).reshape(-1,1)\n",
        "Y_test = np.array(Y_test).reshape(-1,1)\n",
        "#Using linear Regression\n",
        "linear_regression = LinearRegression()\n",
        "linear_regression.fit(X_train,Y_train)\n",
        "print(linear_regression.score(X_test,Y_test))\n",
        "\n",
        "prediction_y = linear_regression.predict(X_test)\n",
        "plt.scatter(X_test,Y_test,color='blue')\n",
        "plt.plot(X_test, prediction_y, color='black')\n",
        "plt.show"
      ]
    },
    {
      "cell_type": "code",
      "execution_count": null,
      "id": "49359987",
      "metadata": {},
      "outputs": [],
      "source": []
    },
    {
      "cell_type": "markdown",
      "id": "ee6d1602",
      "metadata": {},
      "source": [
        "## Tercera Parte (Clase 5, 6 y 7)"
      ]
    },
    {
      "cell_type": "markdown",
      "id": "ce61f3a7",
      "metadata": {},
      "source": [
        "La ultima parte la van a poder encontrar en el archivo `template_tp_integrador_tercera_parte.ipynb`"
      ]
    }
  ],
  "metadata": {
    "colab": {
      "collapsed_sections": [],
      "name": "Practica_clase_3.ipynb",
      "provenance": []
    },
    "kernelspec": {
      "display_name": "venv",
      "language": "python",
      "name": "python3"
    },
    "language_info": {
      "codemirror_mode": {
        "name": "ipython",
        "version": 3
      },
      "file_extension": ".py",
      "mimetype": "text/x-python",
      "name": "python",
      "nbconvert_exporter": "python",
      "pygments_lexer": "ipython3",
      "version": "3.10.9"
    },
    "vscode": {
      "interpreter": {
        "hash": "4aff6195f3a02f1e4155722558364c790f509276ca01b21510f6055a9ac72a02"
      }
    }
  },
  "nbformat": 4,
  "nbformat_minor": 5
}
