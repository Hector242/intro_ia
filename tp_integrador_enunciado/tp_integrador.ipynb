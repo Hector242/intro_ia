{
  "cells": [
    {
      "cell_type": "markdown",
      "id": "07289bb0",
      "metadata": {},
      "source": [
        "# Trabajo práctico integrador\n",
        "\n",
        "**Nombre**:"
      ]
    },
    {
      "cell_type": "markdown",
      "id": "afa76473",
      "metadata": {},
      "source": [
        "## Primera Parte (Clase 1 y 2)"
      ]
    },
    {
      "cell_type": "code",
      "execution_count": 1,
      "id": "aaf94e0a",
      "metadata": {
        "id": "aaf94e0a"
      },
      "outputs": [],
      "source": [
        "import numpy as np\n",
        "import matplotlib.pyplot as plt"
      ]
    },
    {
      "cell_type": "markdown",
      "id": "0ffe9554",
      "metadata": {},
      "source": [
        "### Primer ejercicio\n",
        "\n",
        "Dada una matriz en formato *numpy array*, donde cada fila de la matriz representa un vector matemático, se requiere computar las normas $l_0$, $l_1$, $l_2$, $l_{\\infty}$, según la siguientes definiciones:\n",
        "\n",
        "\\begin{equation}\n",
        "    ||\\mathbf{x}||^{p} = \\bigg(\\sum_{j=1}^{n}{|x_i|^p}\\bigg)^{\\frac{1}{p}}\n",
        "\\end{equation}\n",
        "\n",
        "con los casos especiales para $p=0$ y $p=\\infty$ siendo:\n",
        "\n",
        "\\begin{equation}\n",
        "    \\begin{array}{rcl}\n",
        "        ||\\mathbf{x}||_0 & = & \\bigg(\\sum_{j=1 \\wedge x_j != 0}{|x_i|}\\bigg)\\\\\n",
        "        ||\\mathbf{x}||_{\\infty} & = & \\max_{i}{|x_i|}\\\\\n",
        "    \\end{array}\n",
        "\\end{equation}"
      ]
    },
    {
      "cell_type": "code",
      "execution_count": 37,
      "id": "0bdb0ee3",
      "metadata": {},
      "outputs": [
        {
          "name": "stdout",
          "output_type": "stream",
          "text": [
            "La matriz es: \n",
            " [[4 0 0]\n",
            " [4 2 1]\n",
            " [0 1 1]]\n",
            "Las norma l1 del vector 1:  4.0\n",
            "Las norma l1 del vector 2:  7.0\n",
            "Las norma l1 del vector 3:  2.0\n",
            "Las normas l2 de los vector 1:  4.0\n",
            "Las normas l2 de los vector 2:  4.58257569495584\n",
            "Las normas l2 de los vector 3:  1.4142135623730951\n",
            "Las norma l0 de los vector 1:  1\n",
            "Las norma l0 de los vector 2:  3\n",
            "Las norma l0 de los vector 3:  2\n",
            "La norma inf del vector 1:  4\n",
            "La norma inf del vector 2:  4\n",
            "La norma inf del vector 3:  1\n"
          ]
        },
        {
          "data": {
            "text/plain": [
              "0"
            ]
          },
          "execution_count": 37,
          "metadata": {},
          "output_type": "execute_result"
        }
      ],
      "source": [
        "x = np.random.randint(5, size=(3,3))\n",
        "print(\"La matriz es: \\n\",x)\n",
        "\n",
        "\n",
        "def norms(p):\n",
        "    size = len(x)\n",
        "    for i in range(size):\n",
        "        if p != 0 and p != np.inf:\n",
        "            norm_p = np.sum(abs(x[i]) ** p) ** (1/p)\n",
        "            if p == 1:\n",
        "                print(f\"Las norma l1 del vector {i+1}: \",norm_p)\n",
        "            else:\n",
        "                print(f\"Las normas l2 de los vector {i+1}: \",norm_p)\n",
        "        elif p == 0:\n",
        "            norm_p = np.sum(abs(x[i]) != 0) #cantidad de elementos no nulos\n",
        "            print(f\"Las norma l0 de los vector {i+1}: \",norm_p)\n",
        "        else:\n",
        "            norm_p = np.max((abs(x[i])))\n",
        "            print(f\"La norma inf del vector {i+1}: \",norm_p)\n",
        "    return 0\n",
        "\n",
        "#norm l1\n",
        "p_l1 = 1\n",
        "norms(p_l1)\n",
        "\n",
        "#norm l2\n",
        "p_l2 = 2\n",
        "norms(p_l2)\n",
        "\n",
        "#norm l0\n",
        "p_l0 = 0\n",
        "norms(p_l0)\n",
        "\n",
        "#norm inf\n",
        "p_linf = np.inf\n",
        "norms(p_linf)"
      ]
    },
    {
      "cell_type": "markdown",
      "id": "dd66d862",
      "metadata": {},
      "source": [
        "### Segundo Ejercicio\n",
        "\n",
        "En clasificación contamos con dos arreglos, la “verdad” y la “predicción”. Cada elemento de los arreglos pueden tomar dos valores, “True” (representado por 1) y “False” (representado por 0). Entonces podemos definir 4 variables:\n",
        "\n",
        "* True Positive (TP): El valor verdadero es 1 y el valor predicho es 1\n",
        "* True Negative (TN): El valor verdadero es 0 y el valor predicho es 0\n",
        "* False Positive (FP): El valor verdadero es 0 y el valor predicho es 1\n",
        "* False Negative (FN): El valor verdadero es 1 y el valor predicho es 0\n",
        "\n",
        "A partir de esto definimos:\n",
        "\n",
        "* Precision = TP / (TP + FP)\n",
        "* Recall = TP / (TP + FN)\n",
        "* Accuracy = (TP + TN) / (TP + TN + FP + FN)\n",
        " \n",
        "Calcular las 3 métricas con Numpy y operaciones vectorizadas."
      ]
    },
    {
      "cell_type": "code",
      "execution_count": 38,
      "id": "794dcd58",
      "metadata": {},
      "outputs": [
        {
          "name": "stdout",
          "output_type": "stream",
          "text": [
            "[ True  True False  True False False False False False False]\n",
            "TP:  3\n",
            "[ True  True  True  True  True  True  True  True False  True]\n",
            "TN:  1\n",
            "[False False False False  True  True False False False  True]\n",
            "FN:  3\n",
            "[False False  True False False False  True  True False False]\n",
            "FP:  3\n",
            "Precision: 0.5, Recall: 0.5, Accuracy: 0.4\n"
          ]
        }
      ],
      "source": [
        "truth = np.array([1,1,0,1,1,1,0,0,0,1])\n",
        "prediction = np.array([1,1,1,1,0,0,1,1,0,0])\n",
        "\n",
        "#using logical AND to get the TP op: 1 and 1 = true\n",
        "compare01_and = np.logical_and(truth,prediction)\n",
        "print(compare01_and)\n",
        "#seeking true values and sum them to get tp\n",
        "tp_rate = len(compare01_and[np.nonzero(compare01_and == 1)])\n",
        "print(\"TP: \",tp_rate)\n",
        "\n",
        "#using logical OR since there should be just one false = 0 or 0 \n",
        "compare02 = np.logical_or(truth,prediction)\n",
        "print(compare02)\n",
        "#seeking true values and sum them to get tn\n",
        "tn_rate = len(compare02[np.nonzero(compare02 == 0)])\n",
        "print(\"TN: \",tn_rate)\n",
        "\n",
        "#using XOR against first AND vs truth array will give me FN\n",
        "compare03 = np.logical_xor(compare01_and,truth)\n",
        "print(compare03)\n",
        "#getting the rate of FN\n",
        "fn_rate = len(compare03[np.nonzero(compare03 == 1)])\n",
        "print(\"FN: \",fn_rate)\n",
        "\n",
        "compare04 = np.logical_xor(compare01_and,prediction)\n",
        "print(compare04)\n",
        "fp_rate = len(compare04[np.nonzero(compare04 == 1)])\n",
        "print(\"FP: \",fp_rate)\n",
        "\n",
        "precision = (tp_rate)/(tp_rate + fp_rate)\n",
        "recall = (tp_rate)/(tp_rate + fn_rate)\n",
        "accuracy = (tp_rate + tn_rate)/(tp_rate + tn_rate + fp_rate + fn_rate)\n",
        "print(f\"Precision: {precision}, Recall: {recall}, Accuracy: {accuracy}\")"
      ]
    },
    {
      "cell_type": "markdown",
      "id": "612a03e6",
      "metadata": {},
      "source": [
        "### Tercer y Cuarto Ejercicio\n",
        "\n",
        "Para este ejercicio vamos a considerar los siguientes datasets:\n",
        "\n",
        "* [HAR](https://archive.ics.uci.edu/ml/datasets/Human+Activity+Recognition+Using+Smartphones) (Ejercicio 3)\n",
        "* [MNIST](https://scikit-learn.org/stable/modules/generated/sklearn.datasets.load_digits.html) (Ejercicio 4)\n",
        "\n",
        "1. Aplicar PCA (validar que se cumplan las condiciones), ¿Cuántas componentes necesitamos para explicar el 80% de la varianza?\n",
        "2. Gráficar la variación acumulada para cada caso.\n",
        "3. Utilizando [KMeans](https://scikit-learn.org/stable/modules/generated/sklearn.cluster.KMeans.html). Agrupar el dataset transformado (ejercicio de PCA) y agrupar en clusters de $k=6$ (ej 3) y $k=10$ (ej 4). Luego en ambos casos probar con $k=2$.\n",
        "4. Graficar los resultados con los distintos k's usando las primeras dos componentes principales como ejes x,y.\n",
        "5. Explique. ¿Cuál fue la ganancia de usar PCA en conjunto con k-means?"
      ]
    },
    {
      "cell_type": "code",
      "execution_count": null,
      "id": "5ffbe422",
      "metadata": {},
      "outputs": [],
      "source": [
        "# ejercicio 3"
      ]
    },
    {
      "cell_type": "markdown",
      "id": "7c7574fd",
      "metadata": {},
      "source": [
        "## Segunda Parte (Clase 3 y 4)"
      ]
    },
    {
      "cell_type": "code",
      "execution_count": 2,
      "id": "aaf94e0a",
      "metadata": {
        "id": "aaf94e0a"
      },
      "outputs": [],
      "source": [
        "import pandas as pd\n",
        "import numpy as np\n",
        "import matplotlib.pyplot as plt\n",
        "import seaborn as sns\n",
        "\n",
        "# Entrenamiento de modelos de prueba\n",
        "from sklearn.linear_model import LinearRegression\n",
        "\n",
        "# Evaluación de modelos de prueba\n",
        "from sklearn.metrics import mean_squared_error\n",
        "\n",
        "# Crear datasets\n",
        "from sklearn.datasets import make_regression"
      ]
    },
    {
      "cell_type": "markdown",
      "id": "z4CnDndvBlc6",
      "metadata": {
        "id": "z4CnDndvBlc6"
      },
      "source": [
        "Vamos a crear un dataset sintetico utilizando las librerias de [Sklearn Datasets](https://scikit-learn.org/stable/modules/generated/sklearn.datasets.make_regression.html), en particular nos interesa crear un problema de regresion\n",
        "lineal al que podemos variarle sus parametros"
      ]
    },
    {
      "cell_type": "code",
      "execution_count": 8,
      "id": "65843123",
      "metadata": {
        "colab": {
          "base_uri": "https://localhost:8080/"
        },
        "id": "65843123",
        "outputId": "6589754e-2630-4c3d-cd45-b5f10ad8dc49"
      },
      "outputs": [
        {
          "data": {
            "text/plain": [
              "(1000, 2)"
            ]
          },
          "execution_count": 8,
          "metadata": {},
          "output_type": "execute_result"
        }
      ],
      "source": [
        "# Creamos un dataset de prueba\n",
        "X, y = make_regression(n_samples = 1000,\n",
        "                       n_features = 1,\n",
        "                       noise = 2,\n",
        "                       n_informative = 1,\n",
        "                       random_state = 42)\n",
        "\n",
        "new_data = np.append(X,y.reshape(-1,1),axis=1)\n",
        "new_data.shape"
      ]
    },
    {
      "cell_type": "code",
      "execution_count": 9,
      "id": "a52eSwfzCslx",
      "metadata": {
        "colab": {
          "base_uri": "https://localhost:8080/",
          "height": 206
        },
        "id": "a52eSwfzCslx",
        "outputId": "51d2ef98-ff3b-4182-966e-a03b1a14ba1a"
      },
      "outputs": [
        {
          "data": {
            "text/html": [
              "<div>\n",
              "<style scoped>\n",
              "    .dataframe tbody tr th:only-of-type {\n",
              "        vertical-align: middle;\n",
              "    }\n",
              "\n",
              "    .dataframe tbody tr th {\n",
              "        vertical-align: top;\n",
              "    }\n",
              "\n",
              "    .dataframe thead th {\n",
              "        text-align: right;\n",
              "    }\n",
              "</style>\n",
              "<table border=\"1\" class=\"dataframe\">\n",
              "  <thead>\n",
              "    <tr style=\"text-align: right;\">\n",
              "      <th></th>\n",
              "      <th>feature_1</th>\n",
              "      <th>target</th>\n",
              "    </tr>\n",
              "  </thead>\n",
              "  <tbody>\n",
              "    <tr>\n",
              "      <th>0</th>\n",
              "      <td>-1.758739</td>\n",
              "      <td>-30.118736</td>\n",
              "    </tr>\n",
              "    <tr>\n",
              "      <th>1</th>\n",
              "      <td>1.031845</td>\n",
              "      <td>14.526197</td>\n",
              "    </tr>\n",
              "    <tr>\n",
              "      <th>2</th>\n",
              "      <td>-0.487606</td>\n",
              "      <td>-10.119305</td>\n",
              "    </tr>\n",
              "    <tr>\n",
              "      <th>3</th>\n",
              "      <td>0.186454</td>\n",
              "      <td>1.700188</td>\n",
              "    </tr>\n",
              "    <tr>\n",
              "      <th>4</th>\n",
              "      <td>0.725767</td>\n",
              "      <td>12.345314</td>\n",
              "    </tr>\n",
              "  </tbody>\n",
              "</table>\n",
              "</div>"
            ],
            "text/plain": [
              "   feature_1     target\n",
              "0  -1.758739 -30.118736\n",
              "1   1.031845  14.526197\n",
              "2  -0.487606 -10.119305\n",
              "3   0.186454   1.700188\n",
              "4   0.725767  12.345314"
            ]
          },
          "execution_count": 9,
          "metadata": {},
          "output_type": "execute_result"
        }
      ],
      "source": [
        "df = pd.DataFrame(new_data)\n",
        "\n",
        "new_col = []\n",
        "i = 0\n",
        "for col in df.columns:\n",
        "    if i ==  len(df.columns) - 1:\n",
        "        new_col.append(\"target\")\n",
        "    else :\n",
        "        new_col.append(\"feature_\" + str(i+1))\n",
        "        \n",
        "    i += 1\n",
        "    \n",
        "df.columns = new_col\n",
        "\n",
        "df.head()"
      ]
    },
    {
      "cell_type": "code",
      "execution_count": 10,
      "id": "CBb_QmSZCPFZ",
      "metadata": {
        "colab": {
          "base_uri": "https://localhost:8080/",
          "height": 374
        },
        "id": "CBb_QmSZCPFZ",
        "outputId": "a7c8b051-581d-4267-8bad-5db770be6740"
      },
      "outputs": [
        {
          "data": {
            "image/png": "[encoded data removed]",
            "text/plain": [
              "<Figure size 2200x600 with 2 Axes>"
            ]
          },
          "metadata": {},
          "output_type": "display_data"
        }
      ],
      "source": [
        "fig,axes = plt.subplots(2,figsize=(22,6))\n",
        "axes[0].scatter(X,y)\n",
        "sns.histplot(X, ax=axes[1]);"
      ]
    },
    {
      "cell_type": "markdown",
      "id": "zTvu6e3KhEKG",
      "metadata": {
        "id": "zTvu6e3KhEKG"
      },
      "source": [
        "### Funciones auxiliares para generar datos anómalos"
      ]
    },
    {
      "cell_type": "code",
      "execution_count": 12,
      "id": "_LqDjS8chDkY",
      "metadata": {
        "id": "_LqDjS8chDkY"
      },
      "outputs": [],
      "source": [
        "def generate_outliers(df: pd.DataFrame,\n",
        "                     cols: list = None,\n",
        "                     extreme_outlier: bool = False,\n",
        "                     two_tailed: bool = False,\n",
        "                     percentage: float = 0.02) -> pd.DataFrame:\n",
        "  \"\"\"Con esta función vamos a poder generar outliers en ciertas columnas de nuestro\n",
        "  dataset. Si le damos True a _extreme_outlier_ va a generar outliers con mucho\n",
        "  peso en la regresión (puede ser bilateral o unilateral segun _two_tailed_)\n",
        "  \"\"\"  \n",
        "  seeds = np.random.randint(100, size = len(df))\n",
        "  \n",
        "  nsamples = np.math.floor(len(df) * percentage)\n",
        "  idx_to_change = df.sample(n = nsamples).index\n",
        "\n",
        "  cols = df.columns.tolist() if cols is None else cols\n",
        "\n",
        "  result = df.copy(deep = True)\n",
        "  \n",
        "  for i,col_name in enumerate(cols):\n",
        "    np.random.seed(seeds[i])\n",
        "\n",
        "    iqr = result[col_name].quantile(0.75) - result[col_name].quantile(0.25)\n",
        "\n",
        "    lb = result[col_name].quantile(0.25) - 1 * iqr\n",
        "    ub = result[col_name].quantile(0.75) + 1 * iqr\n",
        "\n",
        "    if two_tailed:\n",
        "      outs = result[col_name].loc[(result[col_name] < lb) | (result[col_name] > ub)]\n",
        "    else:\n",
        "      outs = result[col_name].loc[(result[col_name] > ub)]\n",
        "    \n",
        "    out_size = len(outs)\n",
        "    if out_size < nsamples:\n",
        "      nsamples = out_size\n",
        "\n",
        "    idx_to_change = outs.sample(nsamples, replace = False).index\n",
        "    \n",
        "    if extreme_outlier:\n",
        "      outlier_sign = [1 if np.random.random() < 0.9 else -1 for _ in range(nsamples)]\n",
        "      \n",
        "      result[col_name].loc[idx_to_change] = np.multiply(outlier_sign,\n",
        "                                                        np.random.uniform(low = result[col_name].mean(),\n",
        "                                                                          high = result[col_name].max()*5,\n",
        "                                                                          size = nsamples)\n",
        "                                                        )\n",
        "      result['target'].loc[idx_to_change] = np.multiply(outlier_sign,\n",
        "                                                        np.random.uniform(low = result['target'].mean(),\n",
        "                                                                          high = result['target'].max()*2,\n",
        "                                                                          size = nsamples)\n",
        "                                                        )\n",
        "    else:\n",
        "      samples = result[col_name].loc[idx_to_change].values\n",
        "      np.random.shuffle(samples)\n",
        "      result[col_name].loc[idx_to_change] = samples\n",
        "  \n",
        "  return result"
      ]
    },
    {
      "cell_type": "code",
      "execution_count": 13,
      "id": "mmnwCbF1gugP",
      "metadata": {
        "colab": {
          "base_uri": "https://localhost:8080/"
        },
        "id": "mmnwCbF1gugP",
        "outputId": "a27810fe-1f0f-40ef-99ac-dace0fc0eb92"
      },
      "outputs": [],
      "source": [
        "df_outlier = generate_outliers(df,['feature_1'], percentage = 0.05, extreme_outlier = True, two_tailed= True)"
      ]
    },
    {
      "cell_type": "code",
      "execution_count": 14,
      "id": "7b520928",
      "metadata": {},
      "outputs": [
        {
          "data": {
            "text/plain": [
              "<seaborn.axisgrid.FacetGrid at 0x148b66590>"
            ]
          },
          "execution_count": 14,
          "metadata": {},
          "output_type": "execute_result"
        },
        {
          "data": {
            "image/png": "[encoded data removed]",
            "text/plain": [
              "<Figure size 580x500 with 1 Axes>"
            ]
          },
          "metadata": {},
          "output_type": "display_data"
        }
      ],
      "source": [
        "sns.lmplot(data = pd.concat([df.assign(dataset = 'set1'),\n",
        "                                 df_outlier.assign(dataset = 'set2')]),\n",
        "                x = 'feature_1',\n",
        "                y = 'target',\n",
        "                hue = 'dataset')"
      ]
    },
    {
      "cell_type": "markdown",
      "id": "N_XkGtvw7J-i",
      "metadata": {
        "id": "N_XkGtvw7J-i"
      },
      "source": [
        "### Quinto ejercicio\n",
        "\n",
        "Crear una función que separe los datos en train-validation-test 70-20-10\n",
        "\n",
        "\n",
        "Hints: \n",
        "\n",
        "* Usar Indexing y slicing\n",
        "* Usar np.random.[...]"
      ]
    },
    {
      "cell_type": "code",
      "execution_count": 26,
      "id": "7f203357",
      "metadata": {},
      "outputs": [],
      "source": [
        "import pandas as pd\n",
        "import numpy as np"
      ]
    },
    {
      "cell_type": "code",
      "execution_count": 13,
      "id": "yIOYdDHz7Jkp",
      "metadata": {
        "id": "yIOYdDHz7Jkp"
      },
      "outputs": [
        {
          "name": "stdout",
          "output_type": "stream",
          "text": [
            "Dataset:\n",
            "     Number-of-cars  Rush-hour\n",
            "0              198          1\n",
            "1               44          0\n",
            "2               92          1\n",
            "3              179          1\n",
            "4               93          1\n",
            "5               86          1\n",
            "6              170          1\n",
            "7               30          1\n",
            "8               82          1\n",
            "9               77          0\n",
            "10              14          0\n",
            "11             153          0\n",
            "12             120          1\n",
            "13              84          0\n",
            "14             180          0\n",
            "\n",
            "training percentage: 0.7\n",
            "test percentage: 0.1\n",
            "trianing rows [ 1  6  8  9 14  4  2 13 10  7]\n",
            "validation rows [11  3  0]\n",
            "test rows[ 5 12]\n",
            "Total training data:  10\n",
            "Total validation data:  3\n",
            "Total test data:  2\n"
          ]
        }
      ],
      "source": [
        "def split(df: pd.DataFrame, train_percentage: float, test_percentage: float):\n",
        "    \n",
        "    #defining X\n",
        "    x_layer = df['Number-of-cars']\n",
        "    #defining y\n",
        "    y_layer = df['Rush-hour']\n",
        "\n",
        "    np.random.seed(0)\n",
        "    df_length = len(df)\n",
        "    train_size = int(df_length * train_percentage)\n",
        "\n",
        "    #Permuting rows in the dataset to avoid any kind of pattern\n",
        "    permute_index = np.random.permutation(df_length)\n",
        "    #get train data using slicing\n",
        "    train_df = permute_index[0:train_size]\n",
        "    print(f\"trianing rows {train_df}\")\n",
        "    #get validation data using slicing\n",
        "    valid_df = permute_index[train_size:int(df_length - test_percentage * df_length)]\n",
        "    print(f\"validation rows {valid_df}\")\n",
        "    #get test data\n",
        "    test_df = permute_index[int(df_length - test_percentage * df_length):df_length]\n",
        "    print(f\"test rows{test_df}\")\n",
        "\n",
        "    print(\"Total training data: \",len(train_df))\n",
        "    print(\"Total validation data: \",len(valid_df))\n",
        "    print(\"Total test data: \",len(test_df))\n",
        "    \n",
        "    #X train-validation-test\n",
        "    X_train = x_layer[train_df]\n",
        "    X_val = x_layer[valid_df]\n",
        "    X_test = x_layer[test_df]\n",
        "\n",
        "    #X train-validation-test\n",
        "    Y_train = y_layer[train_df]\n",
        "    Y_val = y_layer[valid_df]\n",
        "    Y_test =y_layer[test_df]\n",
        "\n",
        "    return  X_train, X_val, X_test, Y_train, Y_val, Y_test\n",
        "\n",
        "#Generating data\n",
        "num_car = np.random.randint(5,200, size=(15))\n",
        "rush_hour = np.random.binomial(1,0.5,size=[15])\n",
        "data = {'Number-of-cars': num_car, \n",
        "        'Rush-hour': rush_hour}\n",
        "#print(f\"Generating data:\\n {data}\\n\")\n",
        "#Generating data frame\n",
        "dataset = pd.DataFrame(data)\n",
        "print(f\"Dataset:\\n {dataset}\\n\")\n",
        "#training size\n",
        "train_percentage = 0.7\n",
        "print(f\"training percentage: {train_percentage}\")\n",
        "#test size\n",
        "test_percentage = 0.1\n",
        "print(f\"test percentage: {test_percentage}\")\n",
        "\n",
        "#splitting dataset in train, validation and test\n",
        "X_train, X_val, X_test, Y_train, Y_val, Y_test = split(dataset, train_percentage, test_percentage)"
      ]
    },
    {
      "cell_type": "markdown",
      "id": "b77ad81a",
      "metadata": {
        "id": "b77ad81a"
      },
      "source": [
        "### Sexto ejercicio\n",
        "\n",
        "Utilizando la funcion `generate_outliers` generar puntos extremos dentro de los datos que generamos anteriormente. En este ejercicio dejar setteado `extreme_outliers` como `False` y observe como variando el porcentaje de los mismos la regresión comienza a afectarse."
      ]
    },
    {
      "cell_type": "code",
      "execution_count": 2,
      "id": "2bd249cf",
      "metadata": {},
      "outputs": [],
      "source": [
        "import pandas as pd\n",
        "import numpy as np\n",
        "import matplotlib.pyplot as plt\n",
        "import seaborn as sns\n",
        "\n",
        "# Entrenamiento de modelos de prueba\n",
        "from sklearn.linear_model import LinearRegression, HuberRegressor, ElasticNetCV\n",
        "\n",
        "# Crear datasets\n",
        "from sklearn.datasets import make_regression"
      ]
    },
    {
      "cell_type": "code",
      "execution_count": 10,
      "id": "d14581e4",
      "metadata": {},
      "outputs": [
        {
          "data": {
            "text/html": [
              "<div>\n",
              "<style scoped>\n",
              "    .dataframe tbody tr th:only-of-type {\n",
              "        vertical-align: middle;\n",
              "    }\n",
              "\n",
              "    .dataframe tbody tr th {\n",
              "        vertical-align: top;\n",
              "    }\n",
              "\n",
              "    .dataframe thead th {\n",
              "        text-align: right;\n",
              "    }\n",
              "</style>\n",
              "<table border=\"1\" class=\"dataframe\">\n",
              "  <thead>\n",
              "    <tr style=\"text-align: right;\">\n",
              "      <th></th>\n",
              "      <th>feature_1</th>\n",
              "      <th>feature_2</th>\n",
              "      <th>feature_3</th>\n",
              "      <th>feature_4</th>\n",
              "      <th>feature_5</th>\n",
              "      <th>feature_6</th>\n",
              "      <th>feature_7</th>\n",
              "      <th>feature_8</th>\n",
              "      <th>feature_9</th>\n",
              "      <th>feature_10</th>\n",
              "      <th>...</th>\n",
              "      <th>feature_92</th>\n",
              "      <th>feature_93</th>\n",
              "      <th>feature_94</th>\n",
              "      <th>feature_95</th>\n",
              "      <th>feature_96</th>\n",
              "      <th>feature_97</th>\n",
              "      <th>feature_98</th>\n",
              "      <th>feature_99</th>\n",
              "      <th>feature_100</th>\n",
              "      <th>target</th>\n",
              "    </tr>\n",
              "  </thead>\n",
              "  <tbody>\n",
              "    <tr>\n",
              "      <th>0</th>\n",
              "      <td>-0.521097</td>\n",
              "      <td>-2.068990</td>\n",
              "      <td>-2.047625</td>\n",
              "      <td>0.202864</td>\n",
              "      <td>1.204964</td>\n",
              "      <td>0.308417</td>\n",
              "      <td>-0.272849</td>\n",
              "      <td>0.359177</td>\n",
              "      <td>0.478529</td>\n",
              "      <td>0.365290</td>\n",
              "      <td>...</td>\n",
              "      <td>-1.552052</td>\n",
              "      <td>-0.579954</td>\n",
              "      <td>-0.033809</td>\n",
              "      <td>1.360134</td>\n",
              "      <td>-0.195689</td>\n",
              "      <td>-0.626191</td>\n",
              "      <td>1.115534</td>\n",
              "      <td>-0.588717</td>\n",
              "      <td>1.075819</td>\n",
              "      <td>30.978172</td>\n",
              "    </tr>\n",
              "    <tr>\n",
              "      <th>1</th>\n",
              "      <td>0.764808</td>\n",
              "      <td>-1.460259</td>\n",
              "      <td>-2.542580</td>\n",
              "      <td>-0.328459</td>\n",
              "      <td>0.423682</td>\n",
              "      <td>-0.175382</td>\n",
              "      <td>-0.336273</td>\n",
              "      <td>0.493704</td>\n",
              "      <td>-1.380442</td>\n",
              "      <td>0.280559</td>\n",
              "      <td>...</td>\n",
              "      <td>1.308646</td>\n",
              "      <td>1.939958</td>\n",
              "      <td>-0.060827</td>\n",
              "      <td>0.489523</td>\n",
              "      <td>-0.296116</td>\n",
              "      <td>-0.464337</td>\n",
              "      <td>0.174347</td>\n",
              "      <td>0.312905</td>\n",
              "      <td>-0.562606</td>\n",
              "      <td>17.408614</td>\n",
              "    </tr>\n",
              "    <tr>\n",
              "      <th>2</th>\n",
              "      <td>0.683223</td>\n",
              "      <td>-1.472037</td>\n",
              "      <td>0.566772</td>\n",
              "      <td>1.060090</td>\n",
              "      <td>1.528748</td>\n",
              "      <td>-0.373268</td>\n",
              "      <td>-0.385673</td>\n",
              "      <td>1.292745</td>\n",
              "      <td>1.096547</td>\n",
              "      <td>1.122374</td>\n",
              "      <td>...</td>\n",
              "      <td>-2.099356</td>\n",
              "      <td>-0.728172</td>\n",
              "      <td>-0.143259</td>\n",
              "      <td>-0.518253</td>\n",
              "      <td>-1.017764</td>\n",
              "      <td>-0.294456</td>\n",
              "      <td>0.887080</td>\n",
              "      <td>-0.048965</td>\n",
              "      <td>0.238555</td>\n",
              "      <td>-11.182131</td>\n",
              "    </tr>\n",
              "    <tr>\n",
              "      <th>3</th>\n",
              "      <td>-1.244105</td>\n",
              "      <td>-1.884255</td>\n",
              "      <td>1.195905</td>\n",
              "      <td>-0.068597</td>\n",
              "      <td>-0.006228</td>\n",
              "      <td>0.090569</td>\n",
              "      <td>-0.587443</td>\n",
              "      <td>0.610284</td>\n",
              "      <td>1.799587</td>\n",
              "      <td>-1.478855</td>\n",
              "      <td>...</td>\n",
              "      <td>-0.228927</td>\n",
              "      <td>0.329237</td>\n",
              "      <td>-0.141137</td>\n",
              "      <td>-1.043291</td>\n",
              "      <td>1.012702</td>\n",
              "      <td>0.013480</td>\n",
              "      <td>-1.897695</td>\n",
              "      <td>0.595839</td>\n",
              "      <td>-0.340250</td>\n",
              "      <td>-17.621225</td>\n",
              "    </tr>\n",
              "    <tr>\n",
              "      <th>4</th>\n",
              "      <td>-0.738124</td>\n",
              "      <td>-1.427414</td>\n",
              "      <td>1.510120</td>\n",
              "      <td>0.046485</td>\n",
              "      <td>0.625084</td>\n",
              "      <td>-0.376288</td>\n",
              "      <td>-0.488188</td>\n",
              "      <td>0.743292</td>\n",
              "      <td>-0.113618</td>\n",
              "      <td>1.633349</td>\n",
              "      <td>...</td>\n",
              "      <td>0.197389</td>\n",
              "      <td>-0.535311</td>\n",
              "      <td>0.315082</td>\n",
              "      <td>2.009392</td>\n",
              "      <td>-1.080037</td>\n",
              "      <td>1.418292</td>\n",
              "      <td>0.433389</td>\n",
              "      <td>0.056799</td>\n",
              "      <td>1.745074</td>\n",
              "      <td>-1.409197</td>\n",
              "    </tr>\n",
              "  </tbody>\n",
              "</table>\n",
              "<p>5 rows × 101 columns</p>\n",
              "</div>"
            ],
            "text/plain": [
              "   feature_1  feature_2  feature_3  feature_4  feature_5  feature_6  \\\n",
              "0  -0.521097  -2.068990  -2.047625   0.202864   1.204964   0.308417   \n",
              "1   0.764808  -1.460259  -2.542580  -0.328459   0.423682  -0.175382   \n",
              "2   0.683223  -1.472037   0.566772   1.060090   1.528748  -0.373268   \n",
              "3  -1.244105  -1.884255   1.195905  -0.068597  -0.006228   0.090569   \n",
              "4  -0.738124  -1.427414   1.510120   0.046485   0.625084  -0.376288   \n",
              "\n",
              "   feature_7  feature_8  feature_9  feature_10  ...  feature_92  feature_93  \\\n",
              "0  -0.272849   0.359177   0.478529    0.365290  ...   -1.552052   -0.579954   \n",
              "1  -0.336273   0.493704  -1.380442    0.280559  ...    1.308646    1.939958   \n",
              "2  -0.385673   1.292745   1.096547    1.122374  ...   -2.099356   -0.728172   \n",
              "3  -0.587443   0.610284   1.799587   -1.478855  ...   -0.228927    0.329237   \n",
              "4  -0.488188   0.743292  -0.113618    1.633349  ...    0.197389   -0.535311   \n",
              "\n",
              "   feature_94  feature_95  feature_96  feature_97  feature_98  feature_99  \\\n",
              "0   -0.033809    1.360134   -0.195689   -0.626191    1.115534   -0.588717   \n",
              "1   -0.060827    0.489523   -0.296116   -0.464337    0.174347    0.312905   \n",
              "2   -0.143259   -0.518253   -1.017764   -0.294456    0.887080   -0.048965   \n",
              "3   -0.141137   -1.043291    1.012702    0.013480   -1.897695    0.595839   \n",
              "4    0.315082    2.009392   -1.080037    1.418292    0.433389    0.056799   \n",
              "\n",
              "   feature_100     target  \n",
              "0     1.075819  30.978172  \n",
              "1    -0.562606  17.408614  \n",
              "2     0.238555 -11.182131  \n",
              "3    -0.340250 -17.621225  \n",
              "4     1.745074  -1.409197  \n",
              "\n",
              "[5 rows x 101 columns]"
            ]
          },
          "execution_count": 10,
          "metadata": {},
          "output_type": "execute_result"
        }
      ],
      "source": [
        "# Creamos un dataset de prueba\n",
        "x_input, y_output = make_regression(n_samples = 1000,\n",
        "                       n_features = 100,\n",
        "                       noise = 2,\n",
        "                       n_informative = 1,\n",
        "                       random_state = 42)\n",
        "\n",
        "data_new = np.append(x_input,y_output.reshape(-1,1),axis=1)\n",
        "\n",
        "df_new = pd.DataFrame(data_new)\n",
        "\n",
        "new_col = []\n",
        "i = 0\n",
        "for col in df_new.columns:\n",
        "    if i ==  len(df_new.columns) - 1:\n",
        "        new_col.append(\"target\")\n",
        "    else :\n",
        "        new_col.append(\"feature_\" + str(i+1))\n",
        "    i += 1\n",
        "    \n",
        "df_new.columns = new_col\n",
        "df_new.head()"
      ]
    },
    {
      "cell_type": "code",
      "execution_count": 17,
      "id": "97800b45",
      "metadata": {},
      "outputs": [],
      "source": [
        "df_outlier = generate_outliers(df,['feature_1'], percentage = 0.05, extreme_outlier = False, two_tailed= True)"
      ]
    },
    {
      "cell_type": "code",
      "execution_count": 18,
      "id": "8de4b8f5",
      "metadata": {},
      "outputs": [
        {
          "data": {
            "text/plain": [
              "<seaborn.axisgrid.FacetGrid at 0x12ba72260>"
            ]
          },
          "execution_count": 18,
          "metadata": {},
          "output_type": "execute_result"
        },
        {
          "data": {
            "image/png": "[encoded data removed]",
            "text/plain": [
              "<Figure size 580x500 with 1 Axes>"
            ]
          },
          "metadata": {},
          "output_type": "display_data"
        }
      ],
      "source": [
        "sns.lmplot(data = pd.concat([df.assign(dataset = 'set1'),\n",
        "                                 df_outlier.assign(dataset = 'set2')]),\n",
        "                x = 'feature_1',\n",
        "                y = 'target',\n",
        "                hue = 'dataset')"
      ]
    },
    {
      "cell_type": "markdown",
      "id": "ee6d1602",
      "metadata": {},
      "source": [
        "## Tercera Parte (Clase 5, 6 y 7)"
      ]
    },
    {
      "cell_type": "markdown",
      "id": "ce61f3a7",
      "metadata": {},
      "source": [
        "La ultima parte la van a poder encontrar en el archivo `template_tp_integrador_tercera_parte.ipynb`"
      ]
    }
  ],
  "metadata": {
    "colab": {
      "collapsed_sections": [],
      "name": "Practica_clase_3.ipynb",
      "provenance": []
    },
    "kernelspec": {
      "display_name": "venv",
      "language": "python",
      "name": "python3"
    },
    "language_info": {
      "codemirror_mode": {
        "name": "ipython",
        "version": 3
      },
      "file_extension": ".py",
      "mimetype": "text/x-python",
      "name": "python",
      "nbconvert_exporter": "python",
      "pygments_lexer": "ipython3",
      "version": "3.10.9"
    },
    "vscode": {
      "interpreter": {
        "hash": "4aff6195f3a02f1e4155722558364c790f509276ca01b21510f6055a9ac72a02"
      }
    }
  },
  "nbformat": 4,
  "nbformat_minor": 5
}
