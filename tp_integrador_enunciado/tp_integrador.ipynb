{
  "cells": [
    {
      "cell_type": "markdown",
      "id": "07289bb0",
      "metadata": {},
      "source": [
        "# Trabajo práctico integrador\n",
        "\n",
        "**Nombre**:"
      ]
    },
    {
      "cell_type": "markdown",
      "id": "afa76473",
      "metadata": {},
      "source": [
        "## Primera Parte (Clase 1 y 2)"
      ]
    },
    {
      "cell_type": "code",
      "execution_count": 14,
      "id": "aaf94e0a",
      "metadata": {
        "id": "aaf94e0a"
      },
      "outputs": [],
      "source": [
        "import numpy as np\n",
        "import matplotlib.pyplot as plt"
      ]
    },
    {
      "cell_type": "markdown",
      "id": "0ffe9554",
      "metadata": {},
      "source": [
        "### Primer ejercicio\n",
        "\n",
        "Dada una matriz en formato *numpy array*, donde cada fila de la matriz representa un vector matemático, se requiere computar las normas $l_0$, $l_1$, $l_2$, $l_{\\infty}$, según la siguientes definiciones:\n",
        "\n",
        "\\begin{equation}\n",
        "    ||\\mathbf{x}||^{p} = \\bigg(\\sum_{j=1}^{n}{|x_i|^p}\\bigg)^{\\frac{1}{p}}\n",
        "\\end{equation}\n",
        "\n",
        "con los casos especiales para $p=0$ y $p=\\infty$ siendo:\n",
        "\n",
        "\\begin{equation}\n",
        "    \\begin{array}{rcl}\n",
        "        ||\\mathbf{x}||_0 & = & \\bigg(\\sum_{j=1 \\wedge x_j != 0}{|x_i|}\\bigg)\\\\\n",
        "        ||\\mathbf{x}||_{\\infty} & = & \\max_{i}{|x_i|}\\\\\n",
        "    \\end{array}\n",
        "\\end{equation}"
      ]
    },
    {
      "cell_type": "code",
      "execution_count": 15,
      "id": "0bdb0ee3",
      "metadata": {},
      "outputs": [
        {
          "name": "stdout",
          "output_type": "stream",
          "text": [
            "La matriz es: \n",
            " [[1 0 1]\n",
            " [1 0 1]\n",
            " [4 3 0]]\n",
            "Las norma l1 del vector 1:  2.0\n",
            "Las norma l1 del vector 2:  2.0\n",
            "Las norma l1 del vector 3:  7.0\n",
            "Las normas l2 de los vector 1:  1.4142135623730951\n",
            "Las normas l2 de los vector 2:  1.4142135623730951\n",
            "Las normas l2 de los vector 3:  5.0\n",
            "Las norma l0 de los vector 1:  2\n",
            "Las norma l0 de los vector 2:  2\n",
            "Las norma l0 de los vector 3:  2\n",
            "La norma inf del vector 1:  1\n",
            "La norma inf del vector 2:  1\n",
            "La norma inf del vector 3:  4\n"
          ]
        },
        {
          "data": {
            "text/plain": [
              "0"
            ]
          },
          "execution_count": 15,
          "metadata": {},
          "output_type": "execute_result"
        }
      ],
      "source": [
        "x = np.random.randint(5, size=(3,3))\n",
        "print(\"La matriz es: \\n\",x)\n",
        "\n",
        "\n",
        "def norms(p):\n",
        "    size = len(x)\n",
        "    for i in range(size):\n",
        "        if p != 0 and p != np.inf:\n",
        "            norm_p = np.sum(abs(x[i]) ** p) ** (1/p)\n",
        "            if p == 1:\n",
        "                print(f\"Las norma l1 del vector {i+1}: \",norm_p)\n",
        "            else:\n",
        "                print(f\"Las normas l2 de los vector {i+1}: \",norm_p)\n",
        "        elif p == 0:\n",
        "            norm_p = np.sum(abs(x[i]) != 0) #cantidad de elementos no nulos\n",
        "            print(f\"Las norma l0 de los vector {i+1}: \",norm_p)\n",
        "        else:\n",
        "            norm_p = np.max((abs(x[i])))\n",
        "            print(f\"La norma inf del vector {i+1}: \",norm_p)\n",
        "    return 0\n",
        "\n",
        "#norm l1\n",
        "p_l1 = 1\n",
        "norms(p_l1)\n",
        "\n",
        "#norm l2\n",
        "p_l2 = 2\n",
        "norms(p_l2)\n",
        "\n",
        "#norm l0\n",
        "p_l0 = 0\n",
        "norms(p_l0)\n",
        "\n",
        "#norm inf\n",
        "p_linf = np.inf\n",
        "norms(p_linf)"
      ]
    },
    {
      "cell_type": "markdown",
      "id": "dd66d862",
      "metadata": {},
      "source": [
        "### Segundo Ejercicio\n",
        "\n",
        "En clasificación contamos con dos arreglos, la “verdad” y la “predicción”. Cada elemento de los arreglos pueden tomar dos valores, “True” (representado por 1) y “False” (representado por 0). Entonces podemos definir 4 variables:\n",
        "\n",
        "* True Positive (TP): El valor verdadero es 1 y el valor predicho es 1\n",
        "* True Negative (TN): El valor verdadero es 0 y el valor predicho es 0\n",
        "* False Positive (FP): El valor verdadero es 0 y el valor predicho es 1\n",
        "* False Negative (FN): El valor verdadero es 1 y el valor predicho es 0\n",
        "\n",
        "A partir de esto definimos:\n",
        "\n",
        "* Precision = TP / (TP + FP)\n",
        "* Recall = TP / (TP + FN)\n",
        "* Accuracy = (TP + TN) / (TP + TN + FP + FN)\n",
        " \n",
        "Calcular las 3 métricas con Numpy y operaciones vectorizadas."
      ]
    },
    {
      "cell_type": "code",
      "execution_count": 16,
      "id": "794dcd58",
      "metadata": {},
      "outputs": [
        {
          "name": "stdout",
          "output_type": "stream",
          "text": [
            "[ True  True False  True False False False False False False]\n",
            "TP:  3\n",
            "[ True  True  True  True  True  True  True  True False  True]\n",
            "TN:  1\n",
            "[False False False False  True  True False False False  True]\n",
            "FN:  3\n",
            "[False False  True False False False  True  True False False]\n",
            "FP:  3\n",
            "Precision: 0.5, Recall: 0.5, Accuracy: 0.4\n"
          ]
        }
      ],
      "source": [
        "truth = np.array([1,1,0,1,1,1,0,0,0,1])\n",
        "prediction = np.array([1,1,1,1,0,0,1,1,0,0])\n",
        "\n",
        "#using logical AND to get the TP op: 1 and 1 = true\n",
        "compare01_and = np.logical_and(truth,prediction)\n",
        "print(compare01_and)\n",
        "#seeking true values and sum them to get tp\n",
        "tp_rate = len(compare01_and[np.nonzero(compare01_and == 1)])\n",
        "print(\"TP: \",tp_rate)\n",
        "\n",
        "#using logical OR since there should be just one false = 0 or 0 \n",
        "compare02 = np.logical_or(truth,prediction)\n",
        "print(compare02)\n",
        "#seeking true values and sum them to get tn\n",
        "tn_rate = len(compare02[np.nonzero(compare02 == 0)])\n",
        "print(\"TN: \",tn_rate)\n",
        "\n",
        "#using XOR against first AND vs truth array will give me FN\n",
        "compare03 = np.logical_xor(compare01_and,truth)\n",
        "print(compare03)\n",
        "#getting the rate of FN\n",
        "fn_rate = len(compare03[np.nonzero(compare03 == 1)])\n",
        "print(\"FN: \",fn_rate)\n",
        "\n",
        "compare04 = np.logical_xor(compare01_and,prediction)\n",
        "print(compare04)\n",
        "fp_rate = len(compare04[np.nonzero(compare04 == 1)])\n",
        "print(\"FP: \",fp_rate)\n",
        "\n",
        "precision = (tp_rate)/(tp_rate + fp_rate)\n",
        "recall = (tp_rate)/(tp_rate + fn_rate)\n",
        "accuracy = (tp_rate + tn_rate)/(tp_rate + tn_rate + fp_rate + fn_rate)\n",
        "print(f\"Precision: {precision}, Recall: {recall}, Accuracy: {accuracy}\")"
      ]
    },
    {
      "cell_type": "markdown",
      "id": "612a03e6",
      "metadata": {},
      "source": [
        "### Tercer y Cuarto Ejercicio\n",
        "\n",
        "Para este ejercicio vamos a considerar los siguientes datasets:\n",
        "\n",
        "* [HAR](https://archive.ics.uci.edu/ml/datasets/Human+Activity+Recognition+Using+Smartphones) (Ejercicio 3)\n",
        "* [MNIST](https://scikit-learn.org/stable/modules/generated/sklearn.datasets.load_digits.html) (Ejercicio 4)\n",
        "\n",
        "1. Aplicar PCA (validar que se cumplan las condiciones), ¿Cuántas componentes necesitamos para explicar el 80% de la varianza?\n",
        "2. Gráficar la variación acumulada para cada caso.\n",
        "3. Utilizando [KMeans](https://scikit-learn.org/stable/modules/generated/sklearn.cluster.KMeans.html). Agrupar el dataset transformado (ejercicio de PCA) y agrupar en clusters de $k=6$ (ej 3) y $k=10$ (ej 4). Luego en ambos casos probar con $k=2$.\n",
        "4. Graficar los resultados con los distintos k's usando las primeras dos componentes principales como ejes x,y.\n",
        "5. Explique. ¿Cuál fue la ganancia de usar PCA en conjunto con k-means?"
      ]
    },
    {
      "cell_type": "code",
      "execution_count": null,
      "id": "5ffbe422",
      "metadata": {},
      "outputs": [],
      "source": [
        "# ejercicio 3"
      ]
    },
    {
      "cell_type": "markdown",
      "id": "7c7574fd",
      "metadata": {},
      "source": [
        "## Segunda Parte (Clase 3 y 4)"
      ]
    },
    {
      "cell_type": "code",
      "execution_count": 2,
      "id": "aaf94e0a",
      "metadata": {
        "id": "aaf94e0a"
      },
      "outputs": [],
      "source": [
        "import pandas as pd\n",
        "import numpy as np\n",
        "import matplotlib.pyplot as plt\n",
        "import seaborn as sns\n",
        "\n",
        "# Entrenamiento de modelos de prueba\n",
        "from sklearn.linear_model import LinearRegression\n",
        "\n",
        "# Evaluación de modelos de prueba\n",
        "from sklearn.metrics import mean_squared_error\n",
        "\n",
        "# Crear datasets\n",
        "from sklearn.datasets import make_regression"
      ]
    },
    {
      "cell_type": "markdown",
      "id": "z4CnDndvBlc6",
      "metadata": {
        "id": "z4CnDndvBlc6"
      },
      "source": [
        "Vamos a crear un dataset sintetico utilizando las librerias de [Sklearn Datasets](https://scikit-learn.org/stable/modules/generated/sklearn.datasets.make_regression.html), en particular nos interesa crear un problema de regresion\n",
        "lineal al que podemos variarle sus parametros"
      ]
    },
    {
      "cell_type": "code",
      "execution_count": 8,
      "id": "65843123",
      "metadata": {
        "colab": {
          "base_uri": "https://localhost:8080/"
        },
        "id": "65843123",
        "outputId": "6589754e-2630-4c3d-cd45-b5f10ad8dc49"
      },
      "outputs": [
        {
          "data": {
            "text/plain": [
              "(1000, 2)"
            ]
          },
          "execution_count": 8,
          "metadata": {},
          "output_type": "execute_result"
        }
      ],
      "source": [
        "# Creamos un dataset de prueba\n",
        "X, y = make_regression(n_samples = 1000,\n",
        "                       n_features = 1,\n",
        "                       noise = 2,\n",
        "                       n_informative = 1,\n",
        "                       random_state = 42)\n",
        "\n",
        "new_data = np.append(X,y.reshape(-1,1),axis=1)\n",
        "new_data.shape"
      ]
    },
    {
      "cell_type": "code",
      "execution_count": 9,
      "id": "a52eSwfzCslx",
      "metadata": {
        "colab": {
          "base_uri": "https://localhost:8080/",
          "height": 206
        },
        "id": "a52eSwfzCslx",
        "outputId": "51d2ef98-ff3b-4182-966e-a03b1a14ba1a"
      },
      "outputs": [
        {
          "data": {
            "text/html": [
              "<div>\n",
              "<style scoped>\n",
              "    .dataframe tbody tr th:only-of-type {\n",
              "        vertical-align: middle;\n",
              "    }\n",
              "\n",
              "    .dataframe tbody tr th {\n",
              "        vertical-align: top;\n",
              "    }\n",
              "\n",
              "    .dataframe thead th {\n",
              "        text-align: right;\n",
              "    }\n",
              "</style>\n",
              "<table border=\"1\" class=\"dataframe\">\n",
              "  <thead>\n",
              "    <tr style=\"text-align: right;\">\n",
              "      <th></th>\n",
              "      <th>feature_1</th>\n",
              "      <th>target</th>\n",
              "    </tr>\n",
              "  </thead>\n",
              "  <tbody>\n",
              "    <tr>\n",
              "      <th>0</th>\n",
              "      <td>-1.758739</td>\n",
              "      <td>-30.118736</td>\n",
              "    </tr>\n",
              "    <tr>\n",
              "      <th>1</th>\n",
              "      <td>1.031845</td>\n",
              "      <td>14.526197</td>\n",
              "    </tr>\n",
              "    <tr>\n",
              "      <th>2</th>\n",
              "      <td>-0.487606</td>\n",
              "      <td>-10.119305</td>\n",
              "    </tr>\n",
              "    <tr>\n",
              "      <th>3</th>\n",
              "      <td>0.186454</td>\n",
              "      <td>1.700188</td>\n",
              "    </tr>\n",
              "    <tr>\n",
              "      <th>4</th>\n",
              "      <td>0.725767</td>\n",
              "      <td>12.345314</td>\n",
              "    </tr>\n",
              "  </tbody>\n",
              "</table>\n",
              "</div>"
            ],
            "text/plain": [
              "   feature_1     target\n",
              "0  -1.758739 -30.118736\n",
              "1   1.031845  14.526197\n",
              "2  -0.487606 -10.119305\n",
              "3   0.186454   1.700188\n",
              "4   0.725767  12.345314"
            ]
          },
          "execution_count": 9,
          "metadata": {},
          "output_type": "execute_result"
        }
      ],
      "source": [
        "df = pd.DataFrame(new_data)\n",
        "\n",
        "new_col = []\n",
        "i = 0\n",
        "for col in df.columns:\n",
        "    if i ==  len(df.columns) - 1:\n",
        "        new_col.append(\"target\")\n",
        "    else :\n",
        "        new_col.append(\"feature_\" + str(i+1))\n",
        "        \n",
        "    i += 1\n",
        "    \n",
        "df.columns = new_col\n",
        "\n",
        "df.head()"
      ]
    },
    {
      "cell_type": "code",
      "execution_count": 10,
      "id": "CBb_QmSZCPFZ",
      "metadata": {
        "colab": {
          "base_uri": "https://localhost:8080/",
          "height": 374
        },
        "id": "CBb_QmSZCPFZ",
        "outputId": "a7c8b051-581d-4267-8bad-5db770be6740"
      },
      "outputs": [
        {
          "data": {
            "image/png": "[encoded data removed]",
            "text/plain": [
              "<Figure size 2200x600 with 2 Axes>"
            ]
          },
          "metadata": {},
          "output_type": "display_data"
        }
      ],
      "source": [
        "fig,axes = plt.subplots(2,figsize=(22,6))\n",
        "axes[0].scatter(X,y)\n",
        "sns.histplot(X, ax=axes[1]);"
      ]
    },
    {
      "cell_type": "markdown",
      "id": "zTvu6e3KhEKG",
      "metadata": {
        "id": "zTvu6e3KhEKG"
      },
      "source": [
        "### Funciones auxiliares para generar datos anómalos"
      ]
    },
    {
      "cell_type": "code",
      "execution_count": 12,
      "id": "_LqDjS8chDkY",
      "metadata": {
        "id": "_LqDjS8chDkY"
      },
      "outputs": [],
      "source": [
        "def generate_outliers(df: pd.DataFrame,\n",
        "                     cols: list = None,\n",
        "                     extreme_outlier: bool = False,\n",
        "                     two_tailed: bool = False,\n",
        "                     percentage: float = 0.02) -> pd.DataFrame:\n",
        "  \"\"\"Con esta función vamos a poder generar outliers en ciertas columnas de nuestro\n",
        "  dataset. Si le damos True a _extreme_outlier_ va a generar outliers con mucho\n",
        "  peso en la regresión (puede ser bilateral o unilateral segun _two_tailed_)\n",
        "  \"\"\"  \n",
        "  seeds = np.random.randint(100, size = len(df))\n",
        "  \n",
        "  nsamples = np.math.floor(len(df) * percentage)\n",
        "  idx_to_change = df.sample(n = nsamples).index\n",
        "\n",
        "  cols = df.columns.tolist() if cols is None else cols\n",
        "\n",
        "  result = df.copy(deep = True)\n",
        "  \n",
        "  for i,col_name in enumerate(cols):\n",
        "    np.random.seed(seeds[i])\n",
        "\n",
        "    iqr = result[col_name].quantile(0.75) - result[col_name].quantile(0.25)\n",
        "\n",
        "    lb = result[col_name].quantile(0.25) - 1 * iqr\n",
        "    ub = result[col_name].quantile(0.75) + 1 * iqr\n",
        "\n",
        "    if two_tailed:\n",
        "      outs = result[col_name].loc[(result[col_name] < lb) | (result[col_name] > ub)]\n",
        "    else:\n",
        "      outs = result[col_name].loc[(result[col_name] > ub)]\n",
        "    \n",
        "    out_size = len(outs)\n",
        "    if out_size < nsamples:\n",
        "      nsamples = out_size\n",
        "\n",
        "    idx_to_change = outs.sample(nsamples, replace = False).index\n",
        "    \n",
        "    if extreme_outlier:\n",
        "      outlier_sign = [1 if np.random.random() < 0.9 else -1 for _ in range(nsamples)]\n",
        "      \n",
        "      result[col_name].loc[idx_to_change] = np.multiply(outlier_sign,\n",
        "                                                        np.random.uniform(low = result[col_name].mean(),\n",
        "                                                                          high = result[col_name].max()*5,\n",
        "                                                                          size = nsamples)\n",
        "                                                        )\n",
        "      result['target'].loc[idx_to_change] = np.multiply(outlier_sign,\n",
        "                                                        np.random.uniform(low = result['target'].mean(),\n",
        "                                                                          high = result['target'].max()*2,\n",
        "                                                                          size = nsamples)\n",
        "                                                        )\n",
        "    else:\n",
        "      samples = result[col_name].loc[idx_to_change].values\n",
        "      np.random.shuffle(samples)\n",
        "      result[col_name].loc[idx_to_change] = samples\n",
        "  \n",
        "  return result"
      ]
    },
    {
      "cell_type": "code",
      "execution_count": 13,
      "id": "mmnwCbF1gugP",
      "metadata": {
        "colab": {
          "base_uri": "https://localhost:8080/"
        },
        "id": "mmnwCbF1gugP",
        "outputId": "a27810fe-1f0f-40ef-99ac-dace0fc0eb92"
      },
      "outputs": [],
      "source": [
        "df_outlier = generate_outliers(df,['feature_1'], percentage = 0.05, extreme_outlier = True, two_tailed= True)"
      ]
    },
    {
      "cell_type": "code",
      "execution_count": 14,
      "id": "7b520928",
      "metadata": {},
      "outputs": [
        {
          "data": {
            "text/plain": [
              "<seaborn.axisgrid.FacetGrid at 0x148b66590>"
            ]
          },
          "execution_count": 14,
          "metadata": {},
          "output_type": "execute_result"
        },
        {
          "data": {
            "image/png": "[encoded data removed]",
            "text/plain": [
              "<Figure size 580x500 with 1 Axes>"
            ]
          },
          "metadata": {},
          "output_type": "display_data"
        }
      ],
      "source": [
        "sns.lmplot(data = pd.concat([df.assign(dataset = 'set1'),\n",
        "                                 df_outlier.assign(dataset = 'set2')]),\n",
        "                x = 'feature_1',\n",
        "                y = 'target',\n",
        "                hue = 'dataset')"
      ]
    },
    {
      "cell_type": "markdown",
      "id": "N_XkGtvw7J-i",
      "metadata": {
        "id": "N_XkGtvw7J-i"
      },
      "source": [
        "### Quinto ejercicio\n",
        "\n",
        "Crear una función que separe los datos en train-validation-test 70-20-10\n",
        "\n",
        "\n",
        "Hints: \n",
        "\n",
        "* Usar Indexing y slicing\n",
        "* Usar np.random.[...]"
      ]
    },
    {
      "cell_type": "code",
      "execution_count": 17,
      "id": "7f203357",
      "metadata": {},
      "outputs": [],
      "source": [
        "import pandas as pd\n",
        "import numpy as np\n",
        "import matplotlib.pyplot as plt"
      ]
    },
    {
      "cell_type": "code",
      "execution_count": 40,
      "id": "yIOYdDHz7Jkp",
      "metadata": {
        "id": "yIOYdDHz7Jkp"
      },
      "outputs": [
        {
          "name": "stdout",
          "output_type": "stream",
          "text": [
            "Dataset:\n",
            "    Number-of-cars  Rush-hour\n",
            "0             167          1\n",
            "1              53          1\n",
            "2              98          0\n",
            "3             136          1\n",
            "4             103          1\n",
            "\n",
            "training percentage: 0.7\n",
            "test percentage: 0.1\n",
            "trianing rows [18  1 19  8 10 17  6 13  4  2  5 14  9  7]\n",
            "validation rows [16 11  3  0]\n",
            "test rows[15 12]\n",
            "Total training data:  14\n",
            "Total validation data:  4\n",
            "Total test data:  2\n"
          ]
        },
        {
          "data": {
            "text/plain": [
              "<function matplotlib.pyplot.show(close=None, block=None)>"
            ]
          },
          "execution_count": 40,
          "metadata": {},
          "output_type": "execute_result"
        },
        {
          "data": {
            "image/png": "[encoded data removed]",
            "text/plain": [
              "<Figure size 640x480 with 1 Axes>"
            ]
          },
          "metadata": {},
          "output_type": "display_data"
        }
      ],
      "source": [
        "def split(df: pd.DataFrame, train_percentage: float, test_percentage: float):\n",
        "    \n",
        "    #defining X\n",
        "    x_layer = df['Number-of-cars']\n",
        "    #defining y\n",
        "    y_layer = df['Rush-hour']\n",
        "\n",
        "    np.random.seed(0)\n",
        "    df_length = len(df)\n",
        "    train_size = int(df_length * train_percentage)\n",
        "\n",
        "    #Permuting rows in the dataset to avoid any kind of pattern\n",
        "    permute_index = np.random.permutation(df_length)\n",
        "    #get train data using slicing\n",
        "    train_df = permute_index[0:train_size]\n",
        "    print(f\"trianing rows {train_df}\")\n",
        "    #get validation data using slicing\n",
        "    valid_df = permute_index[train_size:int(df_length - test_percentage * df_length)]\n",
        "    print(f\"validation rows {valid_df}\")\n",
        "    #get test data\n",
        "    test_df = permute_index[int(df_length - test_percentage * df_length):df_length]\n",
        "    print(f\"test rows{test_df}\")\n",
        "\n",
        "    print(\"Total training data: \",len(train_df))\n",
        "    print(\"Total validation data: \",len(valid_df))\n",
        "    print(\"Total test data: \",len(test_df))\n",
        "    \n",
        "    #X train-validation-test\n",
        "    X_train = x_layer[train_df]\n",
        "    X_val = x_layer[valid_df]\n",
        "    X_test = x_layer[test_df]\n",
        "\n",
        "    #X train-validation-test\n",
        "    Y_train = y_layer[train_df]\n",
        "    Y_val = y_layer[valid_df]\n",
        "    Y_test =y_layer[test_df]\n",
        "\n",
        "    return  X_train, X_val, X_test, Y_train, Y_val, Y_test\n",
        "\n",
        "#Generating data\n",
        "num_car = np.random.randint(5,200, size=(20))\n",
        "rush_hour = np.random.binomial(1,0.5,size=[20])\n",
        "data = {'Number-of-cars': num_car, \n",
        "        'Rush-hour': rush_hour}\n",
        "#print(f\"Generating data:\\n {data}\\n\")\n",
        "#Generating data frame\n",
        "dataset = pd.DataFrame(data)\n",
        "print(f\"Dataset:\\n {dataset.head()}\\n\")\n",
        "#training size\n",
        "train_percentage = 0.7\n",
        "print(f\"training percentage: {train_percentage}\")\n",
        "#test size\n",
        "test_percentage = 0.1\n",
        "print(f\"test percentage: {test_percentage}\")\n",
        "\n",
        "#splitting dataset in train, validation and test\n",
        "X_train, X_val, X_test, Y_train, Y_val, Y_test = split(dataset, train_percentage, test_percentage)\n",
        "plt.scatter(X_train, Y_train, color='b')\n",
        "plt.scatter(X_test, Y_test, color = 'k')\n",
        "plt.scatter(X_val, Y_val)\n",
        "plt.show"
      ]
    },
    {
      "attachments": {},
      "cell_type": "markdown",
      "id": "b77ad81a",
      "metadata": {
        "id": "b77ad81a"
      },
      "source": [
        "### Sexto ejercicio\n",
        "\n",
        "Utilizando la funcion `generate_outliers` generar puntos extremos dentro de los datos que generamos anteriormente. En este ejercicio dejar setteado `extreme_outliers` como `False` y observe como variando el porcentaje de los mismos la regresión comienza a afectarse.\n",
        "\n",
        "Pasos:\n",
        "\n",
        "1. Generar datasets:\n",
        "* Uno normal con poco `noise` y pocos outliers\n",
        "* Uno con mucho `noise` y pocos outliers\n",
        "* Uno con poco `noise` y muchos outliers\n",
        "* Uno con mucho `noise` y muchos outliers\n",
        "2. Probar los distintos regresores a ver como se comportan frente a estos datasets anómalos.\n",
        "3. Comparar y analizar resultados."
      ]
    },
    {
      "cell_type": "code",
      "execution_count": 73,
      "id": "2bd249cf",
      "metadata": {},
      "outputs": [],
      "source": [
        "import pandas as pd\n",
        "import numpy as np\n",
        "import matplotlib.pyplot as plt\n",
        "import seaborn as sns\n",
        "\n",
        "# Entrenamiento de modelos de prueba\n",
        "from sklearn.linear_model import LinearRegression, HuberRegressor, ElasticNetCV\n",
        "\n",
        "# Crear datasets\n",
        "from sklearn.datasets import make_regression"
      ]
    },
    {
      "cell_type": "code",
      "execution_count": 74,
      "id": "85352f86",
      "metadata": {},
      "outputs": [],
      "source": [
        "def generate_outliers(df: pd.DataFrame,\n",
        "                     cols: list = None,\n",
        "                     extreme_outlier: bool = False,\n",
        "                     two_tailed: bool = False,\n",
        "                     percentage: float = 0.02) -> pd.DataFrame:\n",
        "  \"\"\"Con esta función vamos a poder generar outliers en ciertas columnas de nuestro\n",
        "  dataset. Si le damos True a _extreme_outlier_ va a generar outliers con mucho\n",
        "  peso en la regresión (puede ser bilateral o unilateral segun _two_tailed_)\n",
        "  \"\"\"  \n",
        "  seeds = np.random.randint(100, size = len(df))\n",
        "  \n",
        "  nsamples = np.math.floor(len(df) * percentage)\n",
        "  idx_to_change = df.sample(n = nsamples).index\n",
        "\n",
        "  cols = df.columns.tolist() if cols is None else cols\n",
        "\n",
        "  result = df.copy(deep = True)\n",
        "  \n",
        "  for i,col_name in enumerate(cols):\n",
        "    np.random.seed(seeds[i])\n",
        "\n",
        "    iqr = result[col_name].quantile(0.75) - result[col_name].quantile(0.25)\n",
        "\n",
        "    lb = result[col_name].quantile(0.25) - 1 * iqr\n",
        "    ub = result[col_name].quantile(0.75) + 1 * iqr\n",
        "\n",
        "    if two_tailed:\n",
        "      outs = result[col_name].loc[(result[col_name] < lb) | (result[col_name] > ub)]\n",
        "    else:\n",
        "      outs = result[col_name].loc[(result[col_name] > ub)]\n",
        "    \n",
        "    out_size = len(outs)\n",
        "    if out_size < nsamples:\n",
        "      nsamples = out_size\n",
        "\n",
        "    idx_to_change = outs.sample(nsamples, replace = False).index\n",
        "    \n",
        "    if extreme_outlier:\n",
        "      outlier_sign = [1 if np.random.random() < 0.9 else -1 for _ in range(nsamples)]\n",
        "      \n",
        "      result[col_name].loc[idx_to_change] = np.multiply(outlier_sign,\n",
        "                                                        np.random.uniform(low = result[col_name].mean(),\n",
        "                                                                          high = result[col_name].max()*5,\n",
        "                                                                          size = nsamples)\n",
        "                                                        )\n",
        "      result['target'].loc[idx_to_change] = np.multiply(outlier_sign,\n",
        "                                                        np.random.uniform(low = result['target'].mean(),\n",
        "                                                                          high = result['target'].max()*2,\n",
        "                                                                          size = nsamples)\n",
        "                                                        )\n",
        "    else:\n",
        "      samples = result[col_name].loc[idx_to_change].values\n",
        "      np.random.shuffle(samples)\n",
        "      result[col_name].loc[idx_to_change] = samples\n",
        "  \n",
        "  return result"
      ]
    },
    {
      "cell_type": "code",
      "execution_count": 75,
      "id": "d14581e4",
      "metadata": {},
      "outputs": [],
      "source": [
        "# Creamos funcion que arma dataset\n",
        "def dataset_build(samples: int, feature: int, noi: int, infor: int, random: int):\n",
        "    x_input01, y_output01 = make_regression(n_samples = samples,\n",
        "                        n_features = feature,\n",
        "                        noise = noi,\n",
        "                        n_informative = infor,\n",
        "                        random_state = random)\n",
        "\n",
        "    data = np.append(x_input01,y_output01.reshape(-1,1),axis=1)\n",
        "\n",
        "    df = pd.DataFrame(data)\n",
        "\n",
        "    new_col = []\n",
        "    i = 0\n",
        "    for col in df.columns:\n",
        "        if i ==  len(df.columns) - 1:\n",
        "            new_col.append(\"target\")\n",
        "        else :\n",
        "            new_col.append(\"feature_\" + str(i+1))\n",
        "        i += 1\n",
        "        \n",
        "    df.columns = new_col\n",
        "    print(df.columns)\n",
        "    return df"
      ]
    },
    {
      "cell_type": "code",
      "execution_count": 76,
      "id": "41edbe02",
      "metadata": {},
      "outputs": [
        {
          "name": "stdout",
          "output_type": "stream",
          "text": [
            "Index(['feature_1', 'target'], dtype='object')\n"
          ]
        },
        {
          "data": {
            "text/html": [
              "<div>\n",
              "<style scoped>\n",
              "    .dataframe tbody tr th:only-of-type {\n",
              "        vertical-align: middle;\n",
              "    }\n",
              "\n",
              "    .dataframe tbody tr th {\n",
              "        vertical-align: top;\n",
              "    }\n",
              "\n",
              "    .dataframe thead th {\n",
              "        text-align: right;\n",
              "    }\n",
              "</style>\n",
              "<table border=\"1\" class=\"dataframe\">\n",
              "  <thead>\n",
              "    <tr style=\"text-align: right;\">\n",
              "      <th></th>\n",
              "      <th>feature_1</th>\n",
              "      <th>target</th>\n",
              "    </tr>\n",
              "  </thead>\n",
              "  <tbody>\n",
              "    <tr>\n",
              "      <th>0</th>\n",
              "      <td>-1.758739</td>\n",
              "      <td>-29.787279</td>\n",
              "    </tr>\n",
              "    <tr>\n",
              "      <th>1</th>\n",
              "      <td>1.031845</td>\n",
              "      <td>15.903898</td>\n",
              "    </tr>\n",
              "    <tr>\n",
              "      <th>2</th>\n",
              "      <td>-0.487606</td>\n",
              "      <td>-9.142930</td>\n",
              "    </tr>\n",
              "    <tr>\n",
              "      <th>3</th>\n",
              "      <td>0.186454</td>\n",
              "      <td>2.411486</td>\n",
              "    </tr>\n",
              "    <tr>\n",
              "      <th>4</th>\n",
              "      <td>0.725767</td>\n",
              "      <td>12.250321</td>\n",
              "    </tr>\n",
              "  </tbody>\n",
              "</table>\n",
              "</div>"
            ],
            "text/plain": [
              "   feature_1     target\n",
              "0  -1.758739 -29.787279\n",
              "1   1.031845  15.903898\n",
              "2  -0.487606  -9.142930\n",
              "3   0.186454   2.411486\n",
              "4   0.725767  12.250321"
            ]
          },
          "execution_count": 76,
          "metadata": {},
          "output_type": "execute_result"
        }
      ],
      "source": [
        "#Dataset normal con poco noise y pocos outliers\n",
        "dataset_01 = dataset_build(samples = 1000, feature = 1, noi = 1, infor = 1, random = 42)\n",
        "dataset_01.head()"
      ]
    },
    {
      "cell_type": "code",
      "execution_count": 77,
      "id": "a709b193",
      "metadata": {},
      "outputs": [
        {
          "name": "stdout",
          "output_type": "stream",
          "text": [
            "Index(['feature_1', 'target'], dtype='object')\n"
          ]
        },
        {
          "data": {
            "text/html": [
              "<div>\n",
              "<style scoped>\n",
              "    .dataframe tbody tr th:only-of-type {\n",
              "        vertical-align: middle;\n",
              "    }\n",
              "\n",
              "    .dataframe tbody tr th {\n",
              "        vertical-align: top;\n",
              "    }\n",
              "\n",
              "    .dataframe thead th {\n",
              "        text-align: right;\n",
              "    }\n",
              "</style>\n",
              "<table border=\"1\" class=\"dataframe\">\n",
              "  <thead>\n",
              "    <tr style=\"text-align: right;\">\n",
              "      <th></th>\n",
              "      <th>feature_1</th>\n",
              "      <th>target</th>\n",
              "    </tr>\n",
              "  </thead>\n",
              "  <tbody>\n",
              "    <tr>\n",
              "      <th>0</th>\n",
              "      <td>-1.758739</td>\n",
              "      <td>-32.770386</td>\n",
              "    </tr>\n",
              "    <tr>\n",
              "      <th>1</th>\n",
              "      <td>1.031845</td>\n",
              "      <td>3.504591</td>\n",
              "    </tr>\n",
              "    <tr>\n",
              "      <th>2</th>\n",
              "      <td>-0.487606</td>\n",
              "      <td>-17.930308</td>\n",
              "    </tr>\n",
              "    <tr>\n",
              "      <th>3</th>\n",
              "      <td>0.186454</td>\n",
              "      <td>-3.990201</td>\n",
              "    </tr>\n",
              "    <tr>\n",
              "      <th>4</th>\n",
              "      <td>0.725767</td>\n",
              "      <td>13.105264</td>\n",
              "    </tr>\n",
              "  </tbody>\n",
              "</table>\n",
              "</div>"
            ],
            "text/plain": [
              "   feature_1     target\n",
              "0  -1.758739 -32.770386\n",
              "1   1.031845   3.504591\n",
              "2  -0.487606 -17.930308\n",
              "3   0.186454  -3.990201\n",
              "4   0.725767  13.105264"
            ]
          },
          "execution_count": 77,
          "metadata": {},
          "output_type": "execute_result"
        }
      ],
      "source": [
        "#Dataset con mucho noise y pocos outliers\n",
        "dataset_02 = dataset_build(samples = 1000, feature = 1, noi = 10, infor = 1, random = 42)\n",
        "dataset_02.head()"
      ]
    },
    {
      "cell_type": "code",
      "execution_count": 78,
      "id": "6cebc196",
      "metadata": {},
      "outputs": [
        {
          "name": "stdout",
          "output_type": "stream",
          "text": [
            "Index(['feature_1', 'feature_2', 'feature_3', 'feature_4', 'feature_5',\n",
            "       'feature_6', 'feature_7', 'feature_8', 'feature_9', 'feature_10',\n",
            "       'target'],\n",
            "      dtype='object')\n"
          ]
        },
        {
          "data": {
            "text/html": [
              "<div>\n",
              "<style scoped>\n",
              "    .dataframe tbody tr th:only-of-type {\n",
              "        vertical-align: middle;\n",
              "    }\n",
              "\n",
              "    .dataframe tbody tr th {\n",
              "        vertical-align: top;\n",
              "    }\n",
              "\n",
              "    .dataframe thead th {\n",
              "        text-align: right;\n",
              "    }\n",
              "</style>\n",
              "<table border=\"1\" class=\"dataframe\">\n",
              "  <thead>\n",
              "    <tr style=\"text-align: right;\">\n",
              "      <th></th>\n",
              "      <th>feature_1</th>\n",
              "      <th>feature_2</th>\n",
              "      <th>feature_3</th>\n",
              "      <th>feature_4</th>\n",
              "      <th>feature_5</th>\n",
              "      <th>feature_6</th>\n",
              "      <th>feature_7</th>\n",
              "      <th>feature_8</th>\n",
              "      <th>feature_9</th>\n",
              "      <th>feature_10</th>\n",
              "      <th>target</th>\n",
              "    </tr>\n",
              "  </thead>\n",
              "  <tbody>\n",
              "    <tr>\n",
              "      <th>0</th>\n",
              "      <td>0.123429</td>\n",
              "      <td>-1.253402</td>\n",
              "      <td>0.370340</td>\n",
              "      <td>0.101788</td>\n",
              "      <td>0.092628</td>\n",
              "      <td>-0.589254</td>\n",
              "      <td>0.306348</td>\n",
              "      <td>-1.458213</td>\n",
              "      <td>1.630130</td>\n",
              "      <td>1.242863</td>\n",
              "      <td>25.295046</td>\n",
              "    </tr>\n",
              "    <tr>\n",
              "      <th>1</th>\n",
              "      <td>-0.216827</td>\n",
              "      <td>0.214983</td>\n",
              "      <td>-0.028817</td>\n",
              "      <td>-1.701140</td>\n",
              "      <td>0.264482</td>\n",
              "      <td>0.314972</td>\n",
              "      <td>0.374062</td>\n",
              "      <td>-0.292758</td>\n",
              "      <td>0.501900</td>\n",
              "      <td>0.063702</td>\n",
              "      <td>-60.487743</td>\n",
              "    </tr>\n",
              "    <tr>\n",
              "      <th>2</th>\n",
              "      <td>0.388979</td>\n",
              "      <td>1.655407</td>\n",
              "      <td>-0.755792</td>\n",
              "      <td>-1.161784</td>\n",
              "      <td>-0.300860</td>\n",
              "      <td>1.048707</td>\n",
              "      <td>-0.283139</td>\n",
              "      <td>0.251474</td>\n",
              "      <td>-0.194269</td>\n",
              "      <td>-1.209477</td>\n",
              "      <td>-30.914379</td>\n",
              "    </tr>\n",
              "    <tr>\n",
              "      <th>3</th>\n",
              "      <td>0.219072</td>\n",
              "      <td>-0.251552</td>\n",
              "      <td>-1.095871</td>\n",
              "      <td>-0.806520</td>\n",
              "      <td>-0.435139</td>\n",
              "      <td>2.768374</td>\n",
              "      <td>1.677201</td>\n",
              "      <td>-0.475392</td>\n",
              "      <td>-0.835870</td>\n",
              "      <td>-1.314879</td>\n",
              "      <td>-10.321053</td>\n",
              "    </tr>\n",
              "    <tr>\n",
              "      <th>4</th>\n",
              "      <td>0.715734</td>\n",
              "      <td>0.383168</td>\n",
              "      <td>-0.686715</td>\n",
              "      <td>-1.236136</td>\n",
              "      <td>0.731001</td>\n",
              "      <td>1.623885</td>\n",
              "      <td>1.254338</td>\n",
              "      <td>2.394362</td>\n",
              "      <td>2.185095</td>\n",
              "      <td>0.538435</td>\n",
              "      <td>23.386267</td>\n",
              "    </tr>\n",
              "  </tbody>\n",
              "</table>\n",
              "</div>"
            ],
            "text/plain": [
              "   feature_1  feature_2  feature_3  feature_4  feature_5  feature_6  \\\n",
              "0   0.123429  -1.253402   0.370340   0.101788   0.092628  -0.589254   \n",
              "1  -0.216827   0.214983  -0.028817  -1.701140   0.264482   0.314972   \n",
              "2   0.388979   1.655407  -0.755792  -1.161784  -0.300860   1.048707   \n",
              "3   0.219072  -0.251552  -1.095871  -0.806520  -0.435139   2.768374   \n",
              "4   0.715734   0.383168  -0.686715  -1.236136   0.731001   1.623885   \n",
              "\n",
              "   feature_7  feature_8  feature_9  feature_10     target  \n",
              "0   0.306348  -1.458213   1.630130    1.242863  25.295046  \n",
              "1   0.374062  -0.292758   0.501900    0.063702 -60.487743  \n",
              "2  -0.283139   0.251474  -0.194269   -1.209477 -30.914379  \n",
              "3   1.677201  -0.475392  -0.835870   -1.314879 -10.321053  \n",
              "4   1.254338   2.394362   2.185095    0.538435  23.386267  "
            ]
          },
          "execution_count": 78,
          "metadata": {},
          "output_type": "execute_result"
        }
      ],
      "source": [
        "#Dataset con poco noise y muchos outliers\n",
        "dataset_03 = dataset_build(samples = 1000, feature = 10, noi = 1, infor = 5, random = 42)\n",
        "dataset_03.head()"
      ]
    },
    {
      "cell_type": "code",
      "execution_count": 79,
      "id": "a1891f81",
      "metadata": {},
      "outputs": [
        {
          "name": "stdout",
          "output_type": "stream",
          "text": [
            "Index(['feature_1', 'feature_2', 'feature_3', 'feature_4', 'feature_5',\n",
            "       'feature_6', 'feature_7', 'feature_8', 'feature_9', 'feature_10',\n",
            "       'target'],\n",
            "      dtype='object')\n"
          ]
        },
        {
          "data": {
            "text/html": [
              "<div>\n",
              "<style scoped>\n",
              "    .dataframe tbody tr th:only-of-type {\n",
              "        vertical-align: middle;\n",
              "    }\n",
              "\n",
              "    .dataframe tbody tr th {\n",
              "        vertical-align: top;\n",
              "    }\n",
              "\n",
              "    .dataframe thead th {\n",
              "        text-align: right;\n",
              "    }\n",
              "</style>\n",
              "<table border=\"1\" class=\"dataframe\">\n",
              "  <thead>\n",
              "    <tr style=\"text-align: right;\">\n",
              "      <th></th>\n",
              "      <th>feature_1</th>\n",
              "      <th>feature_2</th>\n",
              "      <th>feature_3</th>\n",
              "      <th>feature_4</th>\n",
              "      <th>feature_5</th>\n",
              "      <th>feature_6</th>\n",
              "      <th>feature_7</th>\n",
              "      <th>feature_8</th>\n",
              "      <th>feature_9</th>\n",
              "      <th>feature_10</th>\n",
              "      <th>target</th>\n",
              "    </tr>\n",
              "  </thead>\n",
              "  <tbody>\n",
              "    <tr>\n",
              "      <th>0</th>\n",
              "      <td>-1.222895</td>\n",
              "      <td>-0.918127</td>\n",
              "      <td>1.331339</td>\n",
              "      <td>1.239584</td>\n",
              "      <td>-0.396230</td>\n",
              "      <td>-1.293508</td>\n",
              "      <td>1.920368</td>\n",
              "      <td>0.071254</td>\n",
              "      <td>2.124771</td>\n",
              "      <td>-0.695695</td>\n",
              "      <td>92.019588</td>\n",
              "    </tr>\n",
              "    <tr>\n",
              "      <th>1</th>\n",
              "      <td>-1.106526</td>\n",
              "      <td>-0.024125</td>\n",
              "      <td>1.126565</td>\n",
              "      <td>0.198085</td>\n",
              "      <td>-0.144360</td>\n",
              "      <td>0.059218</td>\n",
              "      <td>-0.268889</td>\n",
              "      <td>2.573360</td>\n",
              "      <td>1.848956</td>\n",
              "      <td>0.013929</td>\n",
              "      <td>72.151179</td>\n",
              "    </tr>\n",
              "    <tr>\n",
              "      <th>2</th>\n",
              "      <td>0.184551</td>\n",
              "      <td>1.208366</td>\n",
              "      <td>2.558199</td>\n",
              "      <td>1.024063</td>\n",
              "      <td>0.592527</td>\n",
              "      <td>2.006093</td>\n",
              "      <td>-0.564248</td>\n",
              "      <td>1.542110</td>\n",
              "      <td>-0.551858</td>\n",
              "      <td>2.061504</td>\n",
              "      <td>66.653581</td>\n",
              "    </tr>\n",
              "    <tr>\n",
              "      <th>3</th>\n",
              "      <td>0.558140</td>\n",
              "      <td>-1.151014</td>\n",
              "      <td>0.463289</td>\n",
              "      <td>0.386323</td>\n",
              "      <td>-0.204471</td>\n",
              "      <td>-0.296607</td>\n",
              "      <td>0.043515</td>\n",
              "      <td>-2.529560</td>\n",
              "      <td>0.414866</td>\n",
              "      <td>0.241322</td>\n",
              "      <td>-22.062964</td>\n",
              "    </tr>\n",
              "    <tr>\n",
              "      <th>4</th>\n",
              "      <td>-0.147603</td>\n",
              "      <td>-0.532701</td>\n",
              "      <td>-1.768439</td>\n",
              "      <td>-1.169917</td>\n",
              "      <td>-2.872262</td>\n",
              "      <td>-1.594703</td>\n",
              "      <td>0.323168</td>\n",
              "      <td>-0.466037</td>\n",
              "      <td>0.140886</td>\n",
              "      <td>0.513600</td>\n",
              "      <td>-49.635986</td>\n",
              "    </tr>\n",
              "  </tbody>\n",
              "</table>\n",
              "</div>"
            ],
            "text/plain": [
              "   feature_1  feature_2  feature_3  feature_4  feature_5  feature_6  \\\n",
              "0  -1.222895  -0.918127   1.331339   1.239584  -0.396230  -1.293508   \n",
              "1  -1.106526  -0.024125   1.126565   0.198085  -0.144360   0.059218   \n",
              "2   0.184551   1.208366   2.558199   1.024063   0.592527   2.006093   \n",
              "3   0.558140  -1.151014   0.463289   0.386323  -0.204471  -0.296607   \n",
              "4  -0.147603  -0.532701  -1.768439  -1.169917  -2.872262  -1.594703   \n",
              "\n",
              "   feature_7  feature_8  feature_9  feature_10     target  \n",
              "0   1.920368   0.071254   2.124771   -0.695695  92.019588  \n",
              "1  -0.268889   2.573360   1.848956    0.013929  72.151179  \n",
              "2  -0.564248   1.542110  -0.551858    2.061504  66.653581  \n",
              "3   0.043515  -2.529560   0.414866    0.241322 -22.062964  \n",
              "4   0.323168  -0.466037   0.140886    0.513600 -49.635986  "
            ]
          },
          "execution_count": 79,
          "metadata": {},
          "output_type": "execute_result"
        }
      ],
      "source": [
        "#Dataset con mucho noise y muchos outliers\n",
        "dataset_04 = dataset_build(samples = 500, feature = 10, noi = 10, infor = 5, random = 42)\n",
        "dataset_04.head()"
      ]
    },
    {
      "cell_type": "code",
      "execution_count": 80,
      "id": "97800b45",
      "metadata": {},
      "outputs": [],
      "source": [
        "#outlier for dataset01 \n",
        "df_outlier01 = generate_outliers(dataset_01,['feature_1'], percentage = 0.05, extreme_outlier = False, two_tailed= True)"
      ]
    },
    {
      "cell_type": "code",
      "execution_count": 81,
      "id": "e8587259",
      "metadata": {},
      "outputs": [],
      "source": [
        "#spliting function\n",
        "def split(df: pd.DataFrame, train_percentage: float, test_percentage: float):\n",
        "    \n",
        "    #defining X\n",
        "    x_layer = df['feature_1']\n",
        "    #defining y\n",
        "    y_layer = df['target']\n",
        "\n",
        "    np.random.seed(0)\n",
        "    df_length = len(df)\n",
        "    train_size = int(df_length * train_percentage)\n",
        "\n",
        "    #Permuting rows in the dataset to avoid any kind of pattern\n",
        "    permute_index = np.random.permutation(df_length)\n",
        "    #get train data using slicing\n",
        "    train_df = permute_index[0:train_size]\n",
        "\n",
        "    #get validation data using slicing\n",
        "    valid_df = permute_index[train_size:int(df_length - test_percentage * df_length)]\n",
        "    \n",
        "    #get test data\n",
        "    test_df = permute_index[int(df_length - test_percentage * df_length):df_length]\n",
        "    \n",
        "    \n",
        "    #X train-validation-test\n",
        "    X_train = x_layer[train_df]\n",
        "    X_val = x_layer[valid_df]\n",
        "    X_test = x_layer[test_df]\n",
        "\n",
        "    #X train-validation-test\n",
        "    Y_train = y_layer[train_df]\n",
        "    Y_val = y_layer[valid_df]\n",
        "    Y_test =y_layer[test_df]\n",
        "\n",
        "    return  X_train, X_val, X_test, Y_train, Y_val, Y_test"
      ]
    },
    {
      "cell_type": "code",
      "execution_count": 82,
      "id": "39245b1e",
      "metadata": {},
      "outputs": [
        {
          "name": "stdout",
          "output_type": "stream",
          "text": [
            "0.6170215911592549\n",
            "0.5821038620661165\n",
            "0.6148818839375307\n"
          ]
        },
        {
          "name": "stderr",
          "output_type": "stream",
          "text": [
            "/Users/hectorsanchez/intro_ia/venv/lib/python3.10/site-packages/sklearn/utils/validation.py:1143: DataConversionWarning: A column-vector y was passed when a 1d array was expected. Please change the shape of y to (n_samples, ), for example using ravel().\n",
            "  y = column_or_1d(y, warn=True)\n",
            "/Users/hectorsanchez/intro_ia/venv/lib/python3.10/site-packages/sklearn/linear_model/_coordinate_descent.py:1568: DataConversionWarning: A column-vector y was passed when a 1d array was expected. Please change the shape of y to (n_samples, ), for example using ravel().\n",
            "  y = column_or_1d(y, warn=True)\n"
          ]
        },
        {
          "data": {
            "text/plain": [
              "<function matplotlib.pyplot.show(close=None, block=None)>"
            ]
          },
          "execution_count": 82,
          "metadata": {},
          "output_type": "execute_result"
        },
        {
          "data": {
            "image/png": "[encoded data removed]",
            "text/plain": [
              "<Figure size 640x480 with 1 Axes>"
            ]
          },
          "metadata": {},
          "output_type": "display_data"
        }
      ],
      "source": [
        "#get data splitted in train validation and test for dataset01\n",
        "train_percentage = 0.7\n",
        "test_percentage = 0.1\n",
        "X_train01, X_val01, X_test01, Y_train01, Y_val01, Y_test01 = split(df_outlier01, train_percentage, test_percentage)\n",
        "\n",
        "#passing tuple to array format and reshaping\n",
        "X_train01 = np.array(X_train01).reshape(-1,1)\n",
        "X_test01 = np.array(X_test01).reshape(-1,1)\n",
        "Y_train01 = np.array(Y_train01).reshape(-1,1)\n",
        "Y_test01 = np.array(Y_test01).reshape(-1,1)\n",
        "\n",
        "#Using linear Regression\n",
        "linear_regression01 = LinearRegression()\n",
        "linear_regression01.fit(X_train01,Y_train01)\n",
        "print(linear_regression01.score(X_test01,Y_test01))\n",
        "\n",
        "#Using Huber Regretion\n",
        "huber_regresor01 = HuberRegressor()\n",
        "huber_regresor01.fit(X_train01,Y_train01)\n",
        "print(huber_regresor01.score(X_test01,Y_test01))\n",
        "\n",
        "#Using ElasticNetCV\n",
        "elasticnet_regresor01 = ElasticNetCV()\n",
        "elasticnet_regresor01.fit(X_train01,Y_train01)\n",
        "print(elasticnet_regresor01.score(X_test01,Y_test01))\n",
        "\n",
        "#prediction\n",
        "predic_linearR_y = linear_regression01.predict(X_test01)\n",
        "predic_huberR_y = huber_regresor01.predict(X_test01)\n",
        "predic_elastic_y = elasticnet_regresor01.predict(X_test01)\n",
        "\n",
        "#building graph\n",
        "plt.scatter(X_test01,Y_test01,color='blue')\n",
        "plt.plot(X_test01, predic_linearR_y, color='orange', label =\"Linear Regretion\")\n",
        "plt.plot(X_test01, predic_huberR_y, color = 'red', label =\"Huber Regretion\")\n",
        "plt.plot(X_test01, predic_elastic_y, color = 'gray', label =\"ElasticNet\")\n",
        "plt.legend(loc=\"upper left\")\n",
        "plt.title(\"Linear regretion vs Huber regretion vs ElasticNet dataset 1\")\n",
        "plt.ylabel(\"y_values\")\n",
        "plt.xlabel(\"feature_1\")\n",
        "plt.show\n"
      ]
    },
    {
      "attachments": {},
      "cell_type": "markdown",
      "id": "fbd6e01a",
      "metadata": {},
      "source": [
        "### analisis\n",
        " Como se puede observar en la grafica anterior, donde se le aplico 3 tipos de regresiones lineales a un dataset que tenía poco ruido (Desviación estandar) y pocos outliers (valores fuera de la distribucion esperada). El regresor lineal y el regresor ElasticNet tienen una leve inclinacíon posiblemente producida por el peso de los outliers, mientras que, el regresor Huber al ser un regresor robusto diseñado para asignarle menos peso a los valores que concidera outliers, muestra una mejor precision en la predicción. "
      ]
    },
    {
      "cell_type": "code",
      "execution_count": 83,
      "id": "afa01229",
      "metadata": {},
      "outputs": [],
      "source": [
        "#outlier for dataset02 \n",
        "df_outlier02 = generate_outliers(dataset_02,['feature_1'], percentage = 0.05, extreme_outlier = False, two_tailed= True)"
      ]
    },
    {
      "cell_type": "code",
      "execution_count": 84,
      "id": "cbf350cb",
      "metadata": {},
      "outputs": [
        {
          "name": "stdout",
          "output_type": "stream",
          "text": [
            "0.44334236902333024\n",
            "0.42171503072246896\n",
            "0.4427197625644812\n"
          ]
        },
        {
          "name": "stderr",
          "output_type": "stream",
          "text": [
            "/Users/hectorsanchez/intro_ia/venv/lib/python3.10/site-packages/sklearn/utils/validation.py:1143: DataConversionWarning: A column-vector y was passed when a 1d array was expected. Please change the shape of y to (n_samples, ), for example using ravel().\n",
            "  y = column_or_1d(y, warn=True)\n",
            "/Users/hectorsanchez/intro_ia/venv/lib/python3.10/site-packages/sklearn/linear_model/_coordinate_descent.py:1568: DataConversionWarning: A column-vector y was passed when a 1d array was expected. Please change the shape of y to (n_samples, ), for example using ravel().\n",
            "  y = column_or_1d(y, warn=True)\n"
          ]
        },
        {
          "data": {
            "text/plain": [
              "<function matplotlib.pyplot.show(close=None, block=None)>"
            ]
          },
          "execution_count": 84,
          "metadata": {},
          "output_type": "execute_result"
        },
        {
          "data": {
            "image/png": "[encoded data removed]",
            "text/plain": [
              "<Figure size 640x480 with 1 Axes>"
            ]
          },
          "metadata": {},
          "output_type": "display_data"
        }
      ],
      "source": [
        "#get data splitted in train validation and test for dataset02\n",
        "train_percentage = 0.7\n",
        "test_percentage = 0.1\n",
        "X_train02, X_val02, X_test02, Y_train02, Y_val02, Y_test02 = split(df_outlier02, train_percentage, test_percentage)\n",
        "\n",
        "#passing tuple to array format and reshaping\n",
        "X_train02 = np.array(X_train02).reshape(-1,1)\n",
        "X_test02 = np.array(X_test02).reshape(-1,1)\n",
        "Y_train02 = np.array(Y_train02).reshape(-1,1)\n",
        "Y_test02 = np.array(Y_test02).reshape(-1,1)\n",
        "\n",
        "#Using linear Regression\n",
        "linear_regression02 = LinearRegression()\n",
        "linear_regression02.fit(X_train02,Y_train02)\n",
        "print(linear_regression02.score(X_test02,Y_test02))\n",
        "\n",
        "#Using Huber Regretion\n",
        "huber_regresor02 = HuberRegressor()\n",
        "huber_regresor02.fit(X_train02,Y_train02)\n",
        "print(huber_regresor02.score(X_test02,Y_test02))\n",
        "\n",
        "#Using ElasticNetCV\n",
        "elasticnet_regresor02 = ElasticNetCV()\n",
        "elasticnet_regresor02.fit(X_train02,Y_train02)\n",
        "print(elasticnet_regresor02.score(X_test02,Y_test02))\n",
        "\n",
        "#prediction\n",
        "predic_linearR_y02 = linear_regression02.predict(X_test02)\n",
        "predic_huberR_y02 = huber_regresor02.predict(X_test02)\n",
        "predic_elastic_y02 = elasticnet_regresor02.predict(X_test02)\n",
        "\n",
        "#building graph\n",
        "plt.scatter(X_test02,Y_test02,color='blue')\n",
        "plt.plot(X_test02, predic_linearR_y02, color='orange',label =\"Linear Regretion\")\n",
        "plt.plot(X_test02, predic_huberR_y02, color = 'red',label =\"Huber Regretion\")\n",
        "plt.plot(X_test02, predic_elastic_y02, color = 'gray',label =\"ElasticNet\")\n",
        "plt.legend(loc=\"upper left\")\n",
        "plt.title(\"Linear regretion vs Huber regretion vs ElasticNet dataset 2\")\n",
        "plt.ylabel(\"y_values\")\n",
        "plt.xlabel(\"feature_1\")\n",
        "plt.show"
      ]
    },
    {
      "attachments": {},
      "cell_type": "markdown",
      "id": "f0b910f1",
      "metadata": {},
      "source": [
        "### analisis\n",
        "Como se puede observar en la grafica anterior, donde se le aplico 3 tipos de regresiones lineales a un dataset que tenía mucho ruido (Desviación estandar) y pocos outliers (valores fuera de la distribucion esperada). Incluso con mucho ruido, visualmente el estimador huber parece tener una mejor precision en comparación con los otros dos regresores."
      ]
    },
    {
      "cell_type": "code",
      "execution_count": 85,
      "id": "46a02751",
      "metadata": {},
      "outputs": [],
      "source": [
        "#outlier for dataset03 \n",
        "df_outlier03 = generate_outliers(dataset_03,['feature_1'], percentage = 0.05, extreme_outlier = False, two_tailed= True)"
      ]
    },
    {
      "cell_type": "code",
      "execution_count": 86,
      "id": "74487ab8",
      "metadata": {},
      "outputs": [
        {
          "name": "stdout",
          "output_type": "stream",
          "text": [
            "0.4958000852140386\n",
            "0.470504038098306\n",
            "0.4927130353271697\n"
          ]
        },
        {
          "name": "stderr",
          "output_type": "stream",
          "text": [
            "/Users/hectorsanchez/intro_ia/venv/lib/python3.10/site-packages/sklearn/utils/validation.py:1143: DataConversionWarning: A column-vector y was passed when a 1d array was expected. Please change the shape of y to (n_samples, ), for example using ravel().\n",
            "  y = column_or_1d(y, warn=True)\n",
            "/Users/hectorsanchez/intro_ia/venv/lib/python3.10/site-packages/sklearn/linear_model/_coordinate_descent.py:1568: DataConversionWarning: A column-vector y was passed when a 1d array was expected. Please change the shape of y to (n_samples, ), for example using ravel().\n",
            "  y = column_or_1d(y, warn=True)\n"
          ]
        },
        {
          "data": {
            "text/plain": [
              "<function matplotlib.pyplot.show(close=None, block=None)>"
            ]
          },
          "execution_count": 86,
          "metadata": {},
          "output_type": "execute_result"
        },
        {
          "data": {
            "image/png": "[encoded data removed]",
            "text/plain": [
              "<Figure size 640x480 with 1 Axes>"
            ]
          },
          "metadata": {},
          "output_type": "display_data"
        }
      ],
      "source": [
        "#get data splitted in train validation and test for dataset02\n",
        "train_percentage = 0.7\n",
        "test_percentage = 0.1\n",
        "X_train03, X_val03, X_test03, Y_train03, Y_val03, Y_test03 = split(df_outlier03, train_percentage, test_percentage)\n",
        "\n",
        "#passing tuple to array format and reshaping\n",
        "X_train03 = np.array(X_train03).reshape(-1,1)\n",
        "X_test03 = np.array(X_test03).reshape(-1,1)\n",
        "Y_train03 = np.array(Y_train03).reshape(-1,1)\n",
        "Y_test03 = np.array(Y_test03).reshape(-1,1)\n",
        "\n",
        "#Using linear Regression\n",
        "linear_regression03 = LinearRegression()\n",
        "linear_regression03.fit(X_train03,Y_train03)\n",
        "print(linear_regression03.score(X_test03,Y_test03))\n",
        "\n",
        "#Using Huber Regretion\n",
        "huber_regresor03 = HuberRegressor()\n",
        "huber_regresor03.fit(X_train03,Y_train03)\n",
        "print(huber_regresor03.score(X_test03,Y_test03))\n",
        "\n",
        "#Using ElasticNetCV\n",
        "elasticnet_regresor03 = ElasticNetCV()\n",
        "elasticnet_regresor03.fit(X_train03,Y_train03)\n",
        "print(elasticnet_regresor03.score(X_test03,Y_test03))\n",
        "\n",
        "#prediction\n",
        "predic_linearR_y03 = linear_regression03.predict(X_test03)\n",
        "predic_huberR_y03 = huber_regresor03.predict(X_test03)\n",
        "predic_elastic_y03 = elasticnet_regresor03.predict(X_test03)\n",
        "\n",
        "#Building graph\n",
        "plt.plot(X_test03, predic_linearR_y03, color='orange',label =\"Linear Regretion\")\n",
        "plt.plot(X_test03, predic_huberR_y03, color = 'red',label =\"Huber Regretion\")\n",
        "plt.plot(X_test03, predic_elastic_y03, color = 'gray',label =\"ElasticNet\")\n",
        "plt.legend(loc=\"upper left\")\n",
        "plt.scatter(X_test03,Y_test03,color='blue')\n",
        "plt.title(\"Linear regretion vs Huber regretion vs ElasticNet dataset 3\")\n",
        "plt.ylabel(\"y_values\")\n",
        "plt.xlabel(\"feature_1\")\n",
        "plt.show"
      ]
    },
    {
      "cell_type": "code",
      "execution_count": 87,
      "id": "107b75e4",
      "metadata": {},
      "outputs": [],
      "source": [
        "#outlier for dataset04 \n",
        "df_outlier04 = generate_outliers(dataset_04,['feature_1'], percentage = 0.05, extreme_outlier = False, two_tailed= True)"
      ]
    },
    {
      "cell_type": "code",
      "execution_count": 88,
      "id": "5ed346be",
      "metadata": {},
      "outputs": [
        {
          "name": "stdout",
          "output_type": "stream",
          "text": [
            "0.15323581998786662\n",
            "0.1701758341285028\n",
            "0.1421107955076928\n"
          ]
        },
        {
          "name": "stderr",
          "output_type": "stream",
          "text": [
            "/Users/hectorsanchez/intro_ia/venv/lib/python3.10/site-packages/sklearn/utils/validation.py:1143: DataConversionWarning: A column-vector y was passed when a 1d array was expected. Please change the shape of y to (n_samples, ), for example using ravel().\n",
            "  y = column_or_1d(y, warn=True)\n",
            "/Users/hectorsanchez/intro_ia/venv/lib/python3.10/site-packages/sklearn/linear_model/_coordinate_descent.py:1568: DataConversionWarning: A column-vector y was passed when a 1d array was expected. Please change the shape of y to (n_samples, ), for example using ravel().\n",
            "  y = column_or_1d(y, warn=True)\n"
          ]
        },
        {
          "data": {
            "text/plain": [
              "<function matplotlib.pyplot.show(close=None, block=None)>"
            ]
          },
          "execution_count": 88,
          "metadata": {},
          "output_type": "execute_result"
        },
        {
          "data": {
            "image/png": "[encoded data removed]",
            "text/plain": [
              "<Figure size 640x480 with 1 Axes>"
            ]
          },
          "metadata": {},
          "output_type": "display_data"
        }
      ],
      "source": [
        "#get data splitted in train validation and test for dataset02\n",
        "train_percentage = 0.7\n",
        "test_percentage = 0.1\n",
        "X_train04, X_val04, X_test04, Y_train04, Y_val04, Y_test04 = split(df_outlier04, train_percentage, test_percentage)\n",
        "\n",
        "#passing tuple to array format and reshaping\n",
        "X_train04 = np.array(X_train04).reshape(-1,1)\n",
        "X_test04 = np.array(X_test04).reshape(-1,1)\n",
        "Y_train04 = np.array(Y_train04).reshape(-1,1)\n",
        "Y_test04 = np.array(Y_test04).reshape(-1,1)\n",
        "\n",
        "#Using linear Regression\n",
        "linear_regression04 = LinearRegression()\n",
        "linear_regression04.fit(X_train04,Y_train04)\n",
        "print(linear_regression04.score(X_test04,Y_test04))\n",
        "\n",
        "#Using Huber Regretion\n",
        "huber_regresor04 = HuberRegressor()\n",
        "huber_regresor04.fit(X_train04,Y_train04)\n",
        "print(huber_regresor04.score(X_test04,Y_test04))\n",
        "\n",
        "#Using ElasticNetCV\n",
        "elasticnet_regresor04 = ElasticNetCV()\n",
        "elasticnet_regresor04.fit(X_train04,Y_train04)\n",
        "print(elasticnet_regresor04.score(X_test04,Y_test04))\n",
        "\n",
        "#prediction\n",
        "predic_linearR_y04 = linear_regression04.predict(X_test04)\n",
        "predic_huberR_y04 = huber_regresor04.predict(X_test04)\n",
        "predic_elastic_y04 = elasticnet_regresor04.predict(X_test04)\n",
        "\n",
        "#Building graph\n",
        "plt.plot(X_test04, predic_linearR_y04, color='orange',label =\"Linear Regretion\")\n",
        "plt.plot(X_test04, predic_huberR_y04, color = 'red',label =\"Huber Regretion\")\n",
        "plt.plot(X_test04, predic_elastic_y04, color = 'gray',label =\"ElasticNet\")\n",
        "plt.legend(loc=\"upper left\")\n",
        "plt.scatter(X_test04,Y_test04,color='blue')\n",
        "plt.title(\"Linear regretion vs Huber regretion vs ElasticNet dataset 4\")\n",
        "plt.ylabel(\"y_values\")\n",
        "plt.xlabel(\"feature_1\")\n",
        "plt.show"
      ]
    },
    {
      "attachments": {},
      "cell_type": "markdown",
      "id": "1948de34",
      "metadata": {},
      "source": [
        "### Analisis\n",
        "Como se puede observar en la grafica anterior, donde se le aplico 3 tipos de regresiones lineales a un dataset que tenía mucho ruido (Desviación estandar) y muchos outliers (valores fuera de la distribucion esperada). Se puede observar que ante este escenario los 3 regresores se comportan de forma muy similar. El efecto que causa esta cantidad de ruido y outliers afecta de forma considerable la predicción incluso en el regresor más robusto. En este caso se tendría que remover manualmente mucho de los outliers desde la observación.   "
      ]
    },
    {
      "cell_type": "markdown",
      "id": "ee6d1602",
      "metadata": {},
      "source": [
        "## Tercera Parte (Clase 5, 6 y 7)"
      ]
    },
    {
      "cell_type": "markdown",
      "id": "ce61f3a7",
      "metadata": {},
      "source": [
        "La ultima parte la van a poder encontrar en el archivo `template_tp_integrador_tercera_parte.ipynb`"
      ]
    }
  ],
  "metadata": {
    "colab": {
      "collapsed_sections": [],
      "name": "Practica_clase_3.ipynb",
      "provenance": []
    },
    "kernelspec": {
      "display_name": "venv",
      "language": "python",
      "name": "python3"
    },
    "language_info": {
      "codemirror_mode": {
        "name": "ipython",
        "version": 3
      },
      "file_extension": ".py",
      "mimetype": "text/x-python",
      "name": "python",
      "nbconvert_exporter": "python",
      "pygments_lexer": "ipython3",
      "version": "3.10.9"
    },
    "vscode": {
      "interpreter": {
        "hash": "4aff6195f3a02f1e4155722558364c790f509276ca01b21510f6055a9ac72a02"
      }
    }
  },
  "nbformat": 4,
  "nbformat_minor": 5
}
